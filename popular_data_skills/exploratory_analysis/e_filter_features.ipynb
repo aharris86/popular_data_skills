{
 "cells": [
  {
   "cell_type": "markdown",
   "metadata": {},
   "source": [
    "## Filter features\n",
    "Now that we have the features in a dataframe we can filter for certain criteria to find the most in demand jobs for a certain job profile. The varibales to filter on will be job title, experience and degree.   \n",
    "Initially pct to total post were used to give an accurate percantage of the job posts asking for certain skills. \n",
    "Later when developing treemaps for the dashboard. Evaluating percantage related to total job posts often didn't show information appriately. Showing groups with more general terms much larger. Due to this the percentage for each keyword is taken in relation to the total count of the the keyword group to which it belongs. Showing each keyword group as equal size and keywords portion of the group shown clearly. \n",
    "This Notebook we will:\n",
    "- selecet 2 job profile as filter varibles \n",
    "- filter df and add keyword groups \n",
    "- compare skills from the two job profiles "
   ]
  },
  {
   "cell_type": "code",
   "execution_count": 11,
   "metadata": {},
   "outputs": [],
   "source": [
    "import numpy as np\n",
    "import pandas as pd  \n",
    "import plotly.graph_objects as go\n",
    "import plotly.express as px\n",
    "from plotly.subplots import make_subplots\n",
    "\n",
    "import popular_data_skills.utils.keywords as kws\n",
    "import popular_data_skills.config.config as config"
   ]
  },
  {
   "cell_type": "code",
   "execution_count": 12,
   "metadata": {},
   "outputs": [],
   "source": [
    "job_data = pd.read_csv(config.FINAL_DATA_FILE)\n",
    "\n",
    "keyword_groups = kws.Keywords()\n",
    "keyword_groups.read_file(config.KEYWORD_GROUPS)"
   ]
  },
  {
   "cell_type": "markdown",
   "metadata": {},
   "source": [
    "## Select 2 job profile as filter varibles "
   ]
  },
  {
   "cell_type": "code",
   "execution_count": 20,
   "metadata": {},
   "outputs": [],
   "source": [
    "# Varibles \n",
    "# Profile 1\n",
    "job = 'analyst'\n",
    "experience = '5+'\n",
    "degree = 'phd'\n",
    "\n",
    "# Profile 2\n",
    "job2 = 'scientist'\n",
    "experience2 = '5+'\n",
    "degree2 = 'phd'\n",
    "\n",
    "comparision_group = 'Skills'"
   ]
  },
  {
   "cell_type": "markdown",
   "metadata": {},
   "source": [
    "## filter df and add keyword groups "
   ]
  },
  {
   "cell_type": "markdown",
   "metadata": {},
   "source": [
    "Next we will filter the df by the variables from one profile then sum the features to find how many times each feature is mentioned for each job profile. \n",
    "Next we can add keywords groups to combine related keywords."
   ]
  },
  {
   "cell_type": "code",
   "execution_count": 14,
   "metadata": {},
   "outputs": [
    {
     "data": {
      "text/html": [
       "<div>\n",
       "<style scoped>\n",
       "    .dataframe tbody tr th:only-of-type {\n",
       "        vertical-align: middle;\n",
       "    }\n",
       "\n",
       "    .dataframe tbody tr th {\n",
       "        vertical-align: top;\n",
       "    }\n",
       "\n",
       "    .dataframe thead th {\n",
       "        text-align: right;\n",
       "    }\n",
       "</style>\n",
       "<table border=\"1\" class=\"dataframe\">\n",
       "  <thead>\n",
       "    <tr style=\"text-align: right;\">\n",
       "      <th></th>\n",
       "      <th>a/b</th>\n",
       "      <th>advertising</th>\n",
       "      <th>architecture</th>\n",
       "      <th>automation</th>\n",
       "      <th>aws</th>\n",
       "      <th>azure</th>\n",
       "      <th>bash</th>\n",
       "      <th>bayesian</th>\n",
       "      <th>c</th>\n",
       "      <th>c#</th>\n",
       "      <th>...</th>\n",
       "      <th>masters degree</th>\n",
       "      <th>bachelor degree</th>\n",
       "      <th>power bi</th>\n",
       "      <th>problem solving</th>\n",
       "      <th>decision trees</th>\n",
       "      <th>random forest</th>\n",
       "      <th>structured data</th>\n",
       "      <th>relational data</th>\n",
       "      <th>unstructured data</th>\n",
       "      <th>unsupervised learning</th>\n",
       "    </tr>\n",
       "  </thead>\n",
       "  <tbody>\n",
       "    <tr>\n",
       "      <th>367</th>\n",
       "      <td>0</td>\n",
       "      <td>0</td>\n",
       "      <td>0</td>\n",
       "      <td>0</td>\n",
       "      <td>0</td>\n",
       "      <td>0</td>\n",
       "      <td>0</td>\n",
       "      <td>0</td>\n",
       "      <td>0</td>\n",
       "      <td>0</td>\n",
       "      <td>...</td>\n",
       "      <td>1</td>\n",
       "      <td>0</td>\n",
       "      <td>0</td>\n",
       "      <td>0</td>\n",
       "      <td>0</td>\n",
       "      <td>0</td>\n",
       "      <td>0</td>\n",
       "      <td>0</td>\n",
       "      <td>0</td>\n",
       "      <td>0</td>\n",
       "    </tr>\n",
       "    <tr>\n",
       "      <th>379</th>\n",
       "      <td>1</td>\n",
       "      <td>0</td>\n",
       "      <td>0</td>\n",
       "      <td>0</td>\n",
       "      <td>0</td>\n",
       "      <td>0</td>\n",
       "      <td>0</td>\n",
       "      <td>0</td>\n",
       "      <td>0</td>\n",
       "      <td>0</td>\n",
       "      <td>...</td>\n",
       "      <td>1</td>\n",
       "      <td>0</td>\n",
       "      <td>1</td>\n",
       "      <td>0</td>\n",
       "      <td>0</td>\n",
       "      <td>0</td>\n",
       "      <td>0</td>\n",
       "      <td>1</td>\n",
       "      <td>0</td>\n",
       "      <td>0</td>\n",
       "    </tr>\n",
       "    <tr>\n",
       "      <th>382</th>\n",
       "      <td>0</td>\n",
       "      <td>1</td>\n",
       "      <td>0</td>\n",
       "      <td>1</td>\n",
       "      <td>0</td>\n",
       "      <td>0</td>\n",
       "      <td>0</td>\n",
       "      <td>0</td>\n",
       "      <td>0</td>\n",
       "      <td>0</td>\n",
       "      <td>...</td>\n",
       "      <td>1</td>\n",
       "      <td>0</td>\n",
       "      <td>0</td>\n",
       "      <td>1</td>\n",
       "      <td>0</td>\n",
       "      <td>0</td>\n",
       "      <td>0</td>\n",
       "      <td>0</td>\n",
       "      <td>0</td>\n",
       "      <td>0</td>\n",
       "    </tr>\n",
       "    <tr>\n",
       "      <th>385</th>\n",
       "      <td>0</td>\n",
       "      <td>0</td>\n",
       "      <td>0</td>\n",
       "      <td>0</td>\n",
       "      <td>0</td>\n",
       "      <td>1</td>\n",
       "      <td>0</td>\n",
       "      <td>0</td>\n",
       "      <td>0</td>\n",
       "      <td>0</td>\n",
       "      <td>...</td>\n",
       "      <td>1</td>\n",
       "      <td>0</td>\n",
       "      <td>0</td>\n",
       "      <td>0</td>\n",
       "      <td>0</td>\n",
       "      <td>0</td>\n",
       "      <td>0</td>\n",
       "      <td>0</td>\n",
       "      <td>0</td>\n",
       "      <td>0</td>\n",
       "    </tr>\n",
       "    <tr>\n",
       "      <th>389</th>\n",
       "      <td>0</td>\n",
       "      <td>0</td>\n",
       "      <td>0</td>\n",
       "      <td>1</td>\n",
       "      <td>0</td>\n",
       "      <td>1</td>\n",
       "      <td>0</td>\n",
       "      <td>0</td>\n",
       "      <td>0</td>\n",
       "      <td>0</td>\n",
       "      <td>...</td>\n",
       "      <td>1</td>\n",
       "      <td>0</td>\n",
       "      <td>1</td>\n",
       "      <td>0</td>\n",
       "      <td>0</td>\n",
       "      <td>0</td>\n",
       "      <td>0</td>\n",
       "      <td>0</td>\n",
       "      <td>0</td>\n",
       "      <td>0</td>\n",
       "    </tr>\n",
       "  </tbody>\n",
       "</table>\n",
       "<p>5 rows × 81 columns</p>\n",
       "</div>"
      ],
      "text/plain": [
       "     a/b  advertising  architecture  automation  aws  azure  bash  bayesian  \\\n",
       "367    0            0             0           0    0      0     0         0   \n",
       "379    1            0             0           0    0      0     0         0   \n",
       "382    0            1             0           1    0      0     0         0   \n",
       "385    0            0             0           0    0      1     0         0   \n",
       "389    0            0             0           1    0      1     0         0   \n",
       "\n",
       "     c  c#  ...  masters degree  bachelor degree  power bi  problem solving  \\\n",
       "367  0   0  ...               1                0         0                0   \n",
       "379  0   0  ...               1                0         1                0   \n",
       "382  0   0  ...               1                0         0                1   \n",
       "385  0   0  ...               1                0         0                0   \n",
       "389  0   0  ...               1                0         1                0   \n",
       "\n",
       "     decision trees  random forest  structured data  relational data  \\\n",
       "367               0              0                0                0   \n",
       "379               0              0                0                1   \n",
       "382               0              0                0                0   \n",
       "385               0              0                0                0   \n",
       "389               0              0                0                0   \n",
       "\n",
       "     unstructured data  unsupervised learning  \n",
       "367                  0                      0  \n",
       "379                  0                      0  \n",
       "382                  0                      0  \n",
       "385                  0                      0  \n",
       "389                  0                      0  \n",
       "\n",
       "[5 rows x 81 columns]"
      ]
     },
     "execution_count": 14,
     "metadata": {},
     "output_type": "execute_result"
    }
   ],
   "source": [
    "### Filter df for Treemap plot \n",
    "# Helper functions for filtering info giving in profiles\n",
    "def degree_level(degree :str):\n",
    "    '''Filters info to provide list of values to filter the degree column'''\n",
    "    if degree == 'phd':\n",
    "        return ['phd', 'ms', 'bs','not_specified']\n",
    "    elif degree == 'ms':\n",
    "        return ['ms', 'bs','not_specified']\n",
    "    elif degree == 'bs':\n",
    "        return ['bs','not_specified']\n",
    "    elif degree == 'none':\n",
    "        return ['not_specified']\n",
    "    elif degree == 'any':\n",
    "        return ['phd', 'ms', 'bs','not_specified']\n",
    "\n",
    "def experience_level(experience :str):\n",
    "    '''Filters info to provide list of values to filter the experience column'''\n",
    "    if experience == '5+':\n",
    "        return ['0', '1', '2', '3-5', '5+']\n",
    "    elif experience == '3-5':\n",
    "        return ['0', '1', '2', '3-5']\n",
    "    elif experience == '2':\n",
    "        return ['0', '1', '2']\n",
    "    elif experience == '1':\n",
    "        return ['0', '1']\n",
    "    elif experience == '0':\n",
    "        return ['0']\n",
    "    \n",
    "    \n",
    "# Drop unuseful columns \n",
    "info_columns = ['company_name', 'country', 'job_title', 'location', 'date_posted','applicant_count', 'job_description_lines' ]\n",
    "job_data = job_data.drop(info_columns, axis=1)\n",
    "\n",
    "# Filter data as per profile\n",
    "def filter_df(df,job,experience,degree):\n",
    "    '''Uses Helper functions experience level and degree_level to filter df according to profile varibles'''\n",
    "    df = df[\n",
    "    (df['job'] == job) & \n",
    "    (df['experience'].isin(experience_level(experience))) &\n",
    "    (df['degree_level'].isin(degree_level(degree)))\n",
    "    ]\n",
    "    return df\n",
    "\n",
    "filtered_df = filter_df(job_data,job,experience,degree)\n",
    "\n",
    "# Drop catagorical columns use to filter df that are no longer needed\n",
    "drop_columns =['job', 'experience', 'degree_level'] \n",
    "filtered_df = filtered_df.drop(columns=drop_columns)\n",
    "\n",
    "filtered_df.head()"
   ]
  },
  {
   "cell_type": "code",
   "execution_count": 15,
   "metadata": {},
   "outputs": [
    {
     "data": {
      "text/html": [
       "<div>\n",
       "<style scoped>\n",
       "    .dataframe tbody tr th:only-of-type {\n",
       "        vertical-align: middle;\n",
       "    }\n",
       "\n",
       "    .dataframe tbody tr th {\n",
       "        vertical-align: top;\n",
       "    }\n",
       "\n",
       "    .dataframe thead th {\n",
       "        text-align: right;\n",
       "    }\n",
       "</style>\n",
       "<table border=\"1\" class=\"dataframe\">\n",
       "  <thead>\n",
       "    <tr style=\"text-align: right;\">\n",
       "      <th></th>\n",
       "      <th>index</th>\n",
       "      <th>0</th>\n",
       "    </tr>\n",
       "  </thead>\n",
       "  <tbody>\n",
       "    <tr>\n",
       "      <th>0</th>\n",
       "      <td>analytics</td>\n",
       "      <td>45</td>\n",
       "    </tr>\n",
       "    <tr>\n",
       "      <th>1</th>\n",
       "      <td>masters degree</td>\n",
       "      <td>44</td>\n",
       "    </tr>\n",
       "    <tr>\n",
       "      <th>2</th>\n",
       "      <td>degree</td>\n",
       "      <td>28</td>\n",
       "    </tr>\n",
       "    <tr>\n",
       "      <th>3</th>\n",
       "      <td>healthcare</td>\n",
       "      <td>24</td>\n",
       "    </tr>\n",
       "    <tr>\n",
       "      <th>4</th>\n",
       "      <td>sql</td>\n",
       "      <td>24</td>\n",
       "    </tr>\n",
       "    <tr>\n",
       "      <th>...</th>\n",
       "      <td>...</td>\n",
       "      <td>...</td>\n",
       "    </tr>\n",
       "    <tr>\n",
       "      <th>76</th>\n",
       "      <td>AI</td>\n",
       "      <td>0</td>\n",
       "    </tr>\n",
       "    <tr>\n",
       "      <th>77</th>\n",
       "      <td>economic</td>\n",
       "      <td>0</td>\n",
       "    </tr>\n",
       "    <tr>\n",
       "      <th>78</th>\n",
       "      <td>regression</td>\n",
       "      <td>0</td>\n",
       "    </tr>\n",
       "    <tr>\n",
       "      <th>79</th>\n",
       "      <td>supervised</td>\n",
       "      <td>0</td>\n",
       "    </tr>\n",
       "    <tr>\n",
       "      <th>80</th>\n",
       "      <td>unsupervised learning</td>\n",
       "      <td>0</td>\n",
       "    </tr>\n",
       "  </tbody>\n",
       "</table>\n",
       "<p>81 rows × 2 columns</p>\n",
       "</div>"
      ],
      "text/plain": [
       "                    index   0\n",
       "0               analytics  45\n",
       "1          masters degree  44\n",
       "2                  degree  28\n",
       "3              healthcare  24\n",
       "4                     sql  24\n",
       "..                    ...  ..\n",
       "76                     AI   0\n",
       "77               economic   0\n",
       "78             regression   0\n",
       "79             supervised   0\n",
       "80  unsupervised learning   0\n",
       "\n",
       "[81 rows x 2 columns]"
      ]
     },
     "execution_count": 15,
     "metadata": {},
     "output_type": "execute_result"
    }
   ],
   "source": [
    "# Sum columns and sort into a summary df.\n",
    "filtered_df = (filtered_df.sum().sort_values(ascending=False).astype(int))\n",
    "\n",
    "filtered_df = (filtered_df.to_frame().reset_index())\n",
    "filtered_df"
   ]
  },
  {
   "cell_type": "markdown",
   "metadata": {},
   "source": [
    "### Get percentage of post as related the total post in keyword parent group "
   ]
  },
  {
   "cell_type": "code",
   "execution_count": 16,
   "metadata": {},
   "outputs": [
    {
     "data": {
      "text/html": [
       "<div>\n",
       "<style scoped>\n",
       "    .dataframe tbody tr th:only-of-type {\n",
       "        vertical-align: middle;\n",
       "    }\n",
       "\n",
       "    .dataframe tbody tr th {\n",
       "        vertical-align: top;\n",
       "    }\n",
       "\n",
       "    .dataframe thead th {\n",
       "        text-align: right;\n",
       "    }\n",
       "</style>\n",
       "<table border=\"1\" class=\"dataframe\">\n",
       "  <thead>\n",
       "    <tr style=\"text-align: right;\">\n",
       "      <th></th>\n",
       "      <th>groups</th>\n",
       "      <th>index</th>\n",
       "      <th>count</th>\n",
       "      <th>ratio</th>\n",
       "    </tr>\n",
       "  </thead>\n",
       "  <tbody>\n",
       "    <tr>\n",
       "      <th>0</th>\n",
       "      <td>Business_area</td>\n",
       "      <td>advertising</td>\n",
       "      <td>2</td>\n",
       "      <td>2</td>\n",
       "    </tr>\n",
       "    <tr>\n",
       "      <th>1</th>\n",
       "      <td>Business_area</td>\n",
       "      <td>crm</td>\n",
       "      <td>1</td>\n",
       "      <td>1</td>\n",
       "    </tr>\n",
       "    <tr>\n",
       "      <th>2</th>\n",
       "      <td>Business_area</td>\n",
       "      <td>economic</td>\n",
       "      <td>0</td>\n",
       "      <td>0</td>\n",
       "    </tr>\n",
       "    <tr>\n",
       "      <th>3</th>\n",
       "      <td>Business_area</td>\n",
       "      <td>finance</td>\n",
       "      <td>13</td>\n",
       "      <td>18</td>\n",
       "    </tr>\n",
       "    <tr>\n",
       "      <th>4</th>\n",
       "      <td>Business_area</td>\n",
       "      <td>government</td>\n",
       "      <td>1</td>\n",
       "      <td>1</td>\n",
       "    </tr>\n",
       "    <tr>\n",
       "      <th>...</th>\n",
       "      <td>...</td>\n",
       "      <td>...</td>\n",
       "      <td>...</td>\n",
       "      <td>...</td>\n",
       "    </tr>\n",
       "    <tr>\n",
       "      <th>75</th>\n",
       "      <td>Topic</td>\n",
       "      <td>preparation</td>\n",
       "      <td>5</td>\n",
       "      <td>3</td>\n",
       "    </tr>\n",
       "    <tr>\n",
       "      <th>76</th>\n",
       "      <td>Topic</td>\n",
       "      <td>problem solving</td>\n",
       "      <td>16</td>\n",
       "      <td>9</td>\n",
       "    </tr>\n",
       "    <tr>\n",
       "      <th>77</th>\n",
       "      <td>Topic</td>\n",
       "      <td>statistics</td>\n",
       "      <td>19</td>\n",
       "      <td>11</td>\n",
       "    </tr>\n",
       "    <tr>\n",
       "      <th>78</th>\n",
       "      <td>Topic</td>\n",
       "      <td>testing</td>\n",
       "      <td>4</td>\n",
       "      <td>2</td>\n",
       "    </tr>\n",
       "    <tr>\n",
       "      <th>79</th>\n",
       "      <td>Topic</td>\n",
       "      <td>training</td>\n",
       "      <td>12</td>\n",
       "      <td>7</td>\n",
       "    </tr>\n",
       "  </tbody>\n",
       "</table>\n",
       "<p>80 rows × 4 columns</p>\n",
       "</div>"
      ],
      "text/plain": [
       "           groups            index  count  ratio\n",
       "0   Business_area      advertising      2      2\n",
       "1   Business_area              crm      1      1\n",
       "2   Business_area         economic      0      0\n",
       "3   Business_area          finance     13     18\n",
       "4   Business_area       government      1      1\n",
       "..            ...              ...    ...    ...\n",
       "75          Topic      preparation      5      3\n",
       "76          Topic  problem solving     16      9\n",
       "77          Topic       statistics     19     11\n",
       "78          Topic          testing      4      2\n",
       "79          Topic         training     12      7\n",
       "\n",
       "[80 rows x 4 columns]"
      ]
     },
     "execution_count": 16,
     "metadata": {},
     "output_type": "execute_result"
    }
   ],
   "source": [
    "def add_groups(row):\n",
    "    ''' Adds groups taken from imported keywords list class. Used to add new column to df to group skills together'''\n",
    "    for group, list in keyword_groups.dict.items():\n",
    "        if row in list: \n",
    "            return group\n",
    "\n",
    "filtered_df['groups'] = filtered_df['index'].apply(add_groups).sort_values()\n",
    "#filtered_df['index'] = filtered_df['index'].replace({'no_degree' : 'no degree stated','degree' : 'any degree'})\n",
    "\n",
    "\n",
    "def get_group_totals(df):\n",
    "    '''Create two groupby dfs from filtered info. First df shows totals count for each group. Second collates total count of each skill'''\n",
    "    group_total_df = df.groupby(by='groups',as_index=False).sum()\n",
    "    group_total_df.rename(columns={0:'group_total'}, inplace = True)\n",
    "\n",
    "    grouped_df = df.groupby(['groups', 'index'],as_index=False).sum()\n",
    "    grouped_df.rename(columns={0:'count'}, inplace = True)\n",
    "    return group_total_df, grouped_df\n",
    "\n",
    "group_total_df, filtered_df = get_group_totals(filtered_df)\n",
    "\n",
    "\n",
    "def get_ratio(row):\n",
    "    ''' Uses dfs from get_group_totals to calulate percentage of each skill relative to its parent group '''\n",
    "    mask = group_total_df[group_total_df['groups'] == row['groups']]\n",
    "    group_total = mask['group_total'].values[0].astype(int)\n",
    "    # #return the percantage of group\n",
    "    return ((row['count'] / group_total) *100).astype(int) \n",
    "\n",
    "filtered_df['ratio']  = filtered_df.apply(lambda x: get_ratio(x), axis=1)\n",
    "\n",
    "filtered_df"
   ]
  },
  {
   "cell_type": "markdown",
   "metadata": {},
   "source": [
    "## Plot charts "
   ]
  },
  {
   "cell_type": "markdown",
   "metadata": {},
   "source": [
    "### Treeplot"
   ]
  },
  {
   "cell_type": "code",
   "execution_count": 17,
   "metadata": {},
   "outputs": [
    {
     "data": {
      "application/vnd.plotly.v1+json": {
       "config": {
        "plotlyServerURL": "https://plot.ly"
       },
       "data": [
        {
         "branchvalues": "total",
         "domain": {
          "x": [
           0,
           1
          ],
          "y": [
           0,
           1
          ]
         },
         "hovertemplate": "labels=%{label}<br>ratio=%{value}<br>parent=%{parent}<br>id=%{id}<extra></extra>",
         "ids": [
          "all/Topic/AI",
          "all/Topic/ML",
          "all/Skills/a/b",
          "all/Business_area/advertising",
          "all/Topic/algorithms",
          "all/Topic/analytics",
          "all/Skills/architecture",
          "all/Skills/automation",
          "all/Tools/aws",
          "all/Tools/azure",
          "all/Degree/bachelor degree",
          "all/Languages/bash",
          "all/Skills/bayesian",
          "all/Languages/c",
          "all/Languages/c#",
          "all/Skills/classification",
          "all/Skills/cloud",
          "all/Skills/clustering",
          "all/Topic/coding",
          "all/Business_area/crm",
          "all/Skills/dashboard",
          "all/Topic/databases",
          "all/Skills/decision trees",
          "all/Skills/deep",
          "all/Degree/degree",
          "all/Skills/deploy",
          "all/Topic/documentation",
          "all/Business_area/economic",
          "all/Tools/excel",
          "all/Business_area/finance",
          "all/Topic/forecasting",
          "all/Business_area/government",
          "all/Tools/hadoop",
          "all/Business_area/healthcare",
          "all/Business_area/insurance",
          "all/Languages/javascript",
          "all/Business_area/law",
          "all/Languages/linux",
          "all/Business_area/marketing",
          "all/Degree/masters degree",
          "all/Tools/microsoft",
          "all/Skills/mining",
          "all/Topic/models",
          "all/Skills/neural",
          "all/Skills/nlp",
          "all/Tools/numpy",
          "all/Skills/optimization",
          "all/Tools/oracle",
          "all/Skills/pandas",
          "all/Languages/perl",
          "all/Degree/phd",
          "all/Skills/pipeline",
          "all/Tools/power bi",
          "all/Topic/predictions",
          "all/Topic/preparation",
          "all/Topic/problem solving",
          "all/Languages/python",
          "all/Tools/pytorch",
          "all/Languages/r",
          "all/Skills/random forest",
          "all/Skills/recommendation",
          "all/Skills/regression",
          "all/Skills/relational data",
          "all/Business_area/sales",
          "all/Languages/sas",
          "all/Tools/scikitlearn",
          "all/Business_area/security",
          "all/Tools/snowflake",
          "all/Tools/spark",
          "all/Languages/sql",
          "all/Topic/statistics",
          "all/Skills/structured data",
          "all/Skills/supervised",
          "all/Tools/tableau",
          "all/Tools/tensorflow",
          "all/Topic/testing",
          "all/Topic/training",
          "all/Skills/unstructured data",
          "all/Skills/unsupervised learning",
          "all/Skills/visualization",
          "all/Business_area",
          "all/Degree",
          "all/Languages",
          "all/Skills",
          "all/Tools",
          "all/Topic",
          "all"
         ],
         "labels": [
          "AI",
          "ML",
          "a/b",
          "advertising",
          "algorithms",
          "analytics",
          "architecture",
          "automation",
          "aws",
          "azure",
          "bachelor degree",
          "bash",
          "bayesian",
          "c",
          "c#",
          "classification",
          "cloud",
          "clustering",
          "coding",
          "crm",
          "dashboard",
          "databases",
          "decision trees",
          "deep",
          "degree",
          "deploy",
          "documentation",
          "economic",
          "excel",
          "finance",
          "forecasting",
          "government",
          "hadoop",
          "healthcare",
          "insurance",
          "javascript",
          "law",
          "linux",
          "marketing",
          "masters degree",
          "microsoft",
          "mining",
          "models",
          "neural",
          "nlp",
          "numpy",
          "optimization",
          "oracle",
          "pandas",
          "perl",
          "phd",
          "pipeline",
          "power bi",
          "predictions",
          "preparation",
          "problem solving",
          "python",
          "pytorch",
          "r",
          "random forest",
          "recommendation",
          "regression",
          "relational data",
          "sales",
          "sas",
          "scikitlearn",
          "security",
          "snowflake",
          "spark",
          "sql",
          "statistics",
          "structured data",
          "supervised",
          "tableau",
          "tensorflow",
          "testing",
          "training",
          "unstructured data",
          "unsupervised learning",
          "visualization",
          "Business_area",
          "Degree",
          "Languages",
          "Skills",
          "Tools",
          "Topic",
          "all"
         ],
         "name": "",
         "parents": [
          "all/Topic",
          "all/Topic",
          "all/Skills",
          "all/Business_area",
          "all/Topic",
          "all/Topic",
          "all/Skills",
          "all/Skills",
          "all/Tools",
          "all/Tools",
          "all/Degree",
          "all/Languages",
          "all/Skills",
          "all/Languages",
          "all/Languages",
          "all/Skills",
          "all/Skills",
          "all/Skills",
          "all/Topic",
          "all/Business_area",
          "all/Skills",
          "all/Topic",
          "all/Skills",
          "all/Skills",
          "all/Degree",
          "all/Skills",
          "all/Topic",
          "all/Business_area",
          "all/Tools",
          "all/Business_area",
          "all/Topic",
          "all/Business_area",
          "all/Tools",
          "all/Business_area",
          "all/Business_area",
          "all/Languages",
          "all/Business_area",
          "all/Languages",
          "all/Business_area",
          "all/Degree",
          "all/Tools",
          "all/Skills",
          "all/Topic",
          "all/Skills",
          "all/Skills",
          "all/Tools",
          "all/Skills",
          "all/Tools",
          "all/Skills",
          "all/Languages",
          "all/Degree",
          "all/Skills",
          "all/Tools",
          "all/Topic",
          "all/Topic",
          "all/Topic",
          "all/Languages",
          "all/Tools",
          "all/Languages",
          "all/Skills",
          "all/Skills",
          "all/Skills",
          "all/Skills",
          "all/Business_area",
          "all/Languages",
          "all/Tools",
          "all/Business_area",
          "all/Tools",
          "all/Tools",
          "all/Languages",
          "all/Topic",
          "all/Skills",
          "all/Skills",
          "all/Tools",
          "all/Tools",
          "all/Topic",
          "all/Topic",
          "all/Skills",
          "all/Skills",
          "all/Skills",
          "all",
          "all",
          "all",
          "all",
          "all",
          "all",
          ""
         ],
         "root": {
          "color": "lightgrey"
         },
         "textfont": {
          "size": 30
         },
         "textposition": "middle center",
         "texttemplate": "%{label}<br>%{value}%",
         "type": "treemap",
         "values": [
          0,
          4,
          2,
          2,
          2,
          27,
          5,
          7,
          3,
          5,
          0,
          1,
          0,
          0,
          1,
          0,
          4,
          0,
          5,
          1,
          0,
          9,
          5,
          8,
          37,
          4,
          4,
          0,
          22,
          18,
          0,
          1,
          3,
          34,
          12,
          3,
          7,
          1,
          7,
          59,
          11,
          5,
          9,
          0,
          1,
          1,
          5,
          6,
          2,
          1,
          2,
          2,
          24,
          0,
          3,
          9,
          26,
          0,
          20,
          0,
          1,
          0,
          10,
          7,
          6,
          0,
          7,
          6,
          1,
          37,
          11,
          2,
          0,
          12,
          1,
          2,
          7,
          2,
          0,
          22,
          96,
          98,
          96,
          87,
          95,
          92,
          564
         ]
        }
       ],
       "layout": {
        "legend": {
         "tracegroupgap": 0
        },
        "margin": {
         "b": 25,
         "l": 25,
         "r": 25,
         "t": 50
        },
        "template": {
         "data": {
          "bar": [
           {
            "error_x": {
             "color": "#2a3f5f"
            },
            "error_y": {
             "color": "#2a3f5f"
            },
            "marker": {
             "line": {
              "color": "#E5ECF6",
              "width": 0.5
             },
             "pattern": {
              "fillmode": "overlay",
              "size": 10,
              "solidity": 0.2
             }
            },
            "type": "bar"
           }
          ],
          "barpolar": [
           {
            "marker": {
             "line": {
              "color": "#E5ECF6",
              "width": 0.5
             },
             "pattern": {
              "fillmode": "overlay",
              "size": 10,
              "solidity": 0.2
             }
            },
            "type": "barpolar"
           }
          ],
          "carpet": [
           {
            "aaxis": {
             "endlinecolor": "#2a3f5f",
             "gridcolor": "white",
             "linecolor": "white",
             "minorgridcolor": "white",
             "startlinecolor": "#2a3f5f"
            },
            "baxis": {
             "endlinecolor": "#2a3f5f",
             "gridcolor": "white",
             "linecolor": "white",
             "minorgridcolor": "white",
             "startlinecolor": "#2a3f5f"
            },
            "type": "carpet"
           }
          ],
          "choropleth": [
           {
            "colorbar": {
             "outlinewidth": 0,
             "ticks": ""
            },
            "type": "choropleth"
           }
          ],
          "contour": [
           {
            "colorbar": {
             "outlinewidth": 0,
             "ticks": ""
            },
            "colorscale": [
             [
              0,
              "#0d0887"
             ],
             [
              0.1111111111111111,
              "#46039f"
             ],
             [
              0.2222222222222222,
              "#7201a8"
             ],
             [
              0.3333333333333333,
              "#9c179e"
             ],
             [
              0.4444444444444444,
              "#bd3786"
             ],
             [
              0.5555555555555556,
              "#d8576b"
             ],
             [
              0.6666666666666666,
              "#ed7953"
             ],
             [
              0.7777777777777778,
              "#fb9f3a"
             ],
             [
              0.8888888888888888,
              "#fdca26"
             ],
             [
              1,
              "#f0f921"
             ]
            ],
            "type": "contour"
           }
          ],
          "contourcarpet": [
           {
            "colorbar": {
             "outlinewidth": 0,
             "ticks": ""
            },
            "type": "contourcarpet"
           }
          ],
          "heatmap": [
           {
            "colorbar": {
             "outlinewidth": 0,
             "ticks": ""
            },
            "colorscale": [
             [
              0,
              "#0d0887"
             ],
             [
              0.1111111111111111,
              "#46039f"
             ],
             [
              0.2222222222222222,
              "#7201a8"
             ],
             [
              0.3333333333333333,
              "#9c179e"
             ],
             [
              0.4444444444444444,
              "#bd3786"
             ],
             [
              0.5555555555555556,
              "#d8576b"
             ],
             [
              0.6666666666666666,
              "#ed7953"
             ],
             [
              0.7777777777777778,
              "#fb9f3a"
             ],
             [
              0.8888888888888888,
              "#fdca26"
             ],
             [
              1,
              "#f0f921"
             ]
            ],
            "type": "heatmap"
           }
          ],
          "heatmapgl": [
           {
            "colorbar": {
             "outlinewidth": 0,
             "ticks": ""
            },
            "colorscale": [
             [
              0,
              "#0d0887"
             ],
             [
              0.1111111111111111,
              "#46039f"
             ],
             [
              0.2222222222222222,
              "#7201a8"
             ],
             [
              0.3333333333333333,
              "#9c179e"
             ],
             [
              0.4444444444444444,
              "#bd3786"
             ],
             [
              0.5555555555555556,
              "#d8576b"
             ],
             [
              0.6666666666666666,
              "#ed7953"
             ],
             [
              0.7777777777777778,
              "#fb9f3a"
             ],
             [
              0.8888888888888888,
              "#fdca26"
             ],
             [
              1,
              "#f0f921"
             ]
            ],
            "type": "heatmapgl"
           }
          ],
          "histogram": [
           {
            "marker": {
             "pattern": {
              "fillmode": "overlay",
              "size": 10,
              "solidity": 0.2
             }
            },
            "type": "histogram"
           }
          ],
          "histogram2d": [
           {
            "colorbar": {
             "outlinewidth": 0,
             "ticks": ""
            },
            "colorscale": [
             [
              0,
              "#0d0887"
             ],
             [
              0.1111111111111111,
              "#46039f"
             ],
             [
              0.2222222222222222,
              "#7201a8"
             ],
             [
              0.3333333333333333,
              "#9c179e"
             ],
             [
              0.4444444444444444,
              "#bd3786"
             ],
             [
              0.5555555555555556,
              "#d8576b"
             ],
             [
              0.6666666666666666,
              "#ed7953"
             ],
             [
              0.7777777777777778,
              "#fb9f3a"
             ],
             [
              0.8888888888888888,
              "#fdca26"
             ],
             [
              1,
              "#f0f921"
             ]
            ],
            "type": "histogram2d"
           }
          ],
          "histogram2dcontour": [
           {
            "colorbar": {
             "outlinewidth": 0,
             "ticks": ""
            },
            "colorscale": [
             [
              0,
              "#0d0887"
             ],
             [
              0.1111111111111111,
              "#46039f"
             ],
             [
              0.2222222222222222,
              "#7201a8"
             ],
             [
              0.3333333333333333,
              "#9c179e"
             ],
             [
              0.4444444444444444,
              "#bd3786"
             ],
             [
              0.5555555555555556,
              "#d8576b"
             ],
             [
              0.6666666666666666,
              "#ed7953"
             ],
             [
              0.7777777777777778,
              "#fb9f3a"
             ],
             [
              0.8888888888888888,
              "#fdca26"
             ],
             [
              1,
              "#f0f921"
             ]
            ],
            "type": "histogram2dcontour"
           }
          ],
          "mesh3d": [
           {
            "colorbar": {
             "outlinewidth": 0,
             "ticks": ""
            },
            "type": "mesh3d"
           }
          ],
          "parcoords": [
           {
            "line": {
             "colorbar": {
              "outlinewidth": 0,
              "ticks": ""
             }
            },
            "type": "parcoords"
           }
          ],
          "pie": [
           {
            "automargin": true,
            "type": "pie"
           }
          ],
          "scatter": [
           {
            "fillpattern": {
             "fillmode": "overlay",
             "size": 10,
             "solidity": 0.2
            },
            "type": "scatter"
           }
          ],
          "scatter3d": [
           {
            "line": {
             "colorbar": {
              "outlinewidth": 0,
              "ticks": ""
             }
            },
            "marker": {
             "colorbar": {
              "outlinewidth": 0,
              "ticks": ""
             }
            },
            "type": "scatter3d"
           }
          ],
          "scattercarpet": [
           {
            "marker": {
             "colorbar": {
              "outlinewidth": 0,
              "ticks": ""
             }
            },
            "type": "scattercarpet"
           }
          ],
          "scattergeo": [
           {
            "marker": {
             "colorbar": {
              "outlinewidth": 0,
              "ticks": ""
             }
            },
            "type": "scattergeo"
           }
          ],
          "scattergl": [
           {
            "marker": {
             "colorbar": {
              "outlinewidth": 0,
              "ticks": ""
             }
            },
            "type": "scattergl"
           }
          ],
          "scattermapbox": [
           {
            "marker": {
             "colorbar": {
              "outlinewidth": 0,
              "ticks": ""
             }
            },
            "type": "scattermapbox"
           }
          ],
          "scatterpolar": [
           {
            "marker": {
             "colorbar": {
              "outlinewidth": 0,
              "ticks": ""
             }
            },
            "type": "scatterpolar"
           }
          ],
          "scatterpolargl": [
           {
            "marker": {
             "colorbar": {
              "outlinewidth": 0,
              "ticks": ""
             }
            },
            "type": "scatterpolargl"
           }
          ],
          "scatterternary": [
           {
            "marker": {
             "colorbar": {
              "outlinewidth": 0,
              "ticks": ""
             }
            },
            "type": "scatterternary"
           }
          ],
          "surface": [
           {
            "colorbar": {
             "outlinewidth": 0,
             "ticks": ""
            },
            "colorscale": [
             [
              0,
              "#0d0887"
             ],
             [
              0.1111111111111111,
              "#46039f"
             ],
             [
              0.2222222222222222,
              "#7201a8"
             ],
             [
              0.3333333333333333,
              "#9c179e"
             ],
             [
              0.4444444444444444,
              "#bd3786"
             ],
             [
              0.5555555555555556,
              "#d8576b"
             ],
             [
              0.6666666666666666,
              "#ed7953"
             ],
             [
              0.7777777777777778,
              "#fb9f3a"
             ],
             [
              0.8888888888888888,
              "#fdca26"
             ],
             [
              1,
              "#f0f921"
             ]
            ],
            "type": "surface"
           }
          ],
          "table": [
           {
            "cells": {
             "fill": {
              "color": "#EBF0F8"
             },
             "line": {
              "color": "white"
             }
            },
            "header": {
             "fill": {
              "color": "#C8D4E3"
             },
             "line": {
              "color": "white"
             }
            },
            "type": "table"
           }
          ]
         },
         "layout": {
          "annotationdefaults": {
           "arrowcolor": "#2a3f5f",
           "arrowhead": 0,
           "arrowwidth": 1
          },
          "autotypenumbers": "strict",
          "coloraxis": {
           "colorbar": {
            "outlinewidth": 0,
            "ticks": ""
           }
          },
          "colorscale": {
           "diverging": [
            [
             0,
             "#8e0152"
            ],
            [
             0.1,
             "#c51b7d"
            ],
            [
             0.2,
             "#de77ae"
            ],
            [
             0.3,
             "#f1b6da"
            ],
            [
             0.4,
             "#fde0ef"
            ],
            [
             0.5,
             "#f7f7f7"
            ],
            [
             0.6,
             "#e6f5d0"
            ],
            [
             0.7,
             "#b8e186"
            ],
            [
             0.8,
             "#7fbc41"
            ],
            [
             0.9,
             "#4d9221"
            ],
            [
             1,
             "#276419"
            ]
           ],
           "sequential": [
            [
             0,
             "#0d0887"
            ],
            [
             0.1111111111111111,
             "#46039f"
            ],
            [
             0.2222222222222222,
             "#7201a8"
            ],
            [
             0.3333333333333333,
             "#9c179e"
            ],
            [
             0.4444444444444444,
             "#bd3786"
            ],
            [
             0.5555555555555556,
             "#d8576b"
            ],
            [
             0.6666666666666666,
             "#ed7953"
            ],
            [
             0.7777777777777778,
             "#fb9f3a"
            ],
            [
             0.8888888888888888,
             "#fdca26"
            ],
            [
             1,
             "#f0f921"
            ]
           ],
           "sequentialminus": [
            [
             0,
             "#0d0887"
            ],
            [
             0.1111111111111111,
             "#46039f"
            ],
            [
             0.2222222222222222,
             "#7201a8"
            ],
            [
             0.3333333333333333,
             "#9c179e"
            ],
            [
             0.4444444444444444,
             "#bd3786"
            ],
            [
             0.5555555555555556,
             "#d8576b"
            ],
            [
             0.6666666666666666,
             "#ed7953"
            ],
            [
             0.7777777777777778,
             "#fb9f3a"
            ],
            [
             0.8888888888888888,
             "#fdca26"
            ],
            [
             1,
             "#f0f921"
            ]
           ]
          },
          "colorway": [
           "#636efa",
           "#EF553B",
           "#00cc96",
           "#ab63fa",
           "#FFA15A",
           "#19d3f3",
           "#FF6692",
           "#B6E880",
           "#FF97FF",
           "#FECB52"
          ],
          "font": {
           "color": "#2a3f5f"
          },
          "geo": {
           "bgcolor": "white",
           "lakecolor": "white",
           "landcolor": "#E5ECF6",
           "showlakes": true,
           "showland": true,
           "subunitcolor": "white"
          },
          "hoverlabel": {
           "align": "left"
          },
          "hovermode": "closest",
          "mapbox": {
           "style": "light"
          },
          "paper_bgcolor": "white",
          "plot_bgcolor": "#E5ECF6",
          "polar": {
           "angularaxis": {
            "gridcolor": "white",
            "linecolor": "white",
            "ticks": ""
           },
           "bgcolor": "#E5ECF6",
           "radialaxis": {
            "gridcolor": "white",
            "linecolor": "white",
            "ticks": ""
           }
          },
          "scene": {
           "xaxis": {
            "backgroundcolor": "#E5ECF6",
            "gridcolor": "white",
            "gridwidth": 2,
            "linecolor": "white",
            "showbackground": true,
            "ticks": "",
            "zerolinecolor": "white"
           },
           "yaxis": {
            "backgroundcolor": "#E5ECF6",
            "gridcolor": "white",
            "gridwidth": 2,
            "linecolor": "white",
            "showbackground": true,
            "ticks": "",
            "zerolinecolor": "white"
           },
           "zaxis": {
            "backgroundcolor": "#E5ECF6",
            "gridcolor": "white",
            "gridwidth": 2,
            "linecolor": "white",
            "showbackground": true,
            "ticks": "",
            "zerolinecolor": "white"
           }
          },
          "shapedefaults": {
           "line": {
            "color": "#2a3f5f"
           }
          },
          "ternary": {
           "aaxis": {
            "gridcolor": "white",
            "linecolor": "white",
            "ticks": ""
           },
           "baxis": {
            "gridcolor": "white",
            "linecolor": "white",
            "ticks": ""
           },
           "bgcolor": "#E5ECF6",
           "caxis": {
            "gridcolor": "white",
            "linecolor": "white",
            "ticks": ""
           }
          },
          "title": {
           "x": 0.05
          },
          "xaxis": {
           "automargin": true,
           "gridcolor": "white",
           "linecolor": "white",
           "ticks": "",
           "title": {
            "standoff": 15
           },
           "zerolinecolor": "white",
           "zerolinewidth": 2
          },
          "yaxis": {
           "automargin": true,
           "gridcolor": "white",
           "linecolor": "white",
           "ticks": "",
           "title": {
            "standoff": 15
           },
           "zerolinecolor": "white",
           "zerolinewidth": 2
          }
         }
        }
       }
      }
     },
     "metadata": {},
     "output_type": "display_data"
    }
   ],
   "source": [
    "def tree_map(job: str, experience: str, degree: str, comparision_group: str):\n",
    "    ''' Return tree map of data filtered by parameters giving. '''\n",
    "    # Create treemap based on filtered dfs\n",
    "    fig = px.treemap(filtered_df, path=[px.Constant(\"all\"),'groups','index'], values='ratio', labels= \"images\",)\n",
    "\n",
    "    fig.update_traces(root_color=\"lightgrey\")\n",
    "    fig.update_layout(margin = dict(t=50, l=25, r=25, b=25))\n",
    "    fig.data[0]['textfont']['size'] = 30\n",
    "\n",
    "    fig.update_traces(textposition=\"middle center\", selector=dict(type='treemap'))\n",
    "    fig.data[0].texttemplate = \"%{label}<br>%{value}%\"\n",
    "\n",
    "    return fig.show()\n",
    "\n",
    "tree_map(job,experience,degree, comparision_group)"
   ]
  },
  {
   "cell_type": "markdown",
   "metadata": {},
   "source": []
  },
  {
   "cell_type": "markdown",
   "metadata": {},
   "source": [
    "#### Filter df for job profile 2"
   ]
  },
  {
   "cell_type": "code",
   "execution_count": 26,
   "metadata": {},
   "outputs": [
    {
     "name": "stdout",
     "output_type": "stream",
     "text": [
      "    groups            index  count  ratio\n",
      "35  Skills           deploy      3      4\n",
      "30  Skills            cloud      3      4\n",
      "36  Skills           mining      4      5\n",
      "33  Skills   decision trees      4      5\n",
      "26  Skills     architecture      4      5\n",
      "39  Skills     optimization      4      5\n",
      "27  Skills       automation      5      7\n",
      "34  Skills             deep      6      8\n",
      "45  Skills  relational data      7     10\n",
      "50  Skills    visualization     15     22\n",
      "    groups                  index  count  ratio\n",
      "25  Skills                    a/b     13     19\n",
      "26  Skills           architecture      8     11\n",
      "27  Skills             automation     25     37\n",
      "28  Skills               bayesian     10     14\n",
      "29  Skills         classification     19     28\n",
      "30  Skills                  cloud     27     40\n",
      "31  Skills             clustering     16     23\n",
      "32  Skills              dashboard      2      2\n",
      "33  Skills         decision trees     39     58\n",
      "34  Skills                   deep     43     64\n",
      "35  Skills                 deploy     14     20\n",
      "36  Skills                 mining     19     28\n",
      "37  Skills                 neural     19     28\n",
      "38  Skills                    nlp     15     22\n",
      "39  Skills           optimization     27     40\n",
      "40  Skills                 pandas     12     17\n",
      "41  Skills               pipeline      8     11\n",
      "42  Skills          random forest      9     13\n",
      "43  Skills         recommendation     13     19\n",
      "44  Skills             regression     32     47\n",
      "45  Skills        relational data     17     25\n",
      "46  Skills        structured data     17     25\n",
      "47  Skills             supervised     10     14\n",
      "48  Skills      unstructured data     18     26\n",
      "49  Skills  unsupervised learning     10     14\n",
      "50  Skills          visualization     53     79\n"
     ]
    }
   ],
   "source": [
    "### Filter dfs for comparision plots \n",
    "\n",
    "# filtered_df2 is filtered df based on profile two varibles \n",
    "filtered_df2 = filter_df(job_data,job2,experience2,degree2)\n",
    "# Drop catagorical columns once used for filter \n",
    "drop_columns =['job', 'experience', 'degree_level'] \n",
    "filtered_df2 = filtered_df2.drop(columns=drop_columns)\n",
    "\n",
    "# Wrangle df total counts of each skill sorted \n",
    "filtered_df2 = (filtered_df2\n",
    ".sum()\n",
    ".sort_values(ascending=False).astype(int)\n",
    ")\n",
    "filtered_df2 = (filtered_df2\n",
    ".to_frame()\n",
    ".reset_index()\n",
    ")\n",
    "\n",
    "# add groups using helper function\n",
    "filtered_df2['groups'] = filtered_df2['index'].apply(add_groups).sort_values()\n",
    "# filtered_df2['index'] = filtered_df2['index'].replace({'no_degree' : 'no degree stated',\n",
    "#                                                      'degree' : 'any degree'})\n",
    "\n",
    "# Create two dfs one for group totals and second for skills totals\n",
    "group_total_df2, filtered_df2 = get_group_totals(filtered_df2)\n",
    "\n",
    "filtered_df2['ratio']  = filtered_df2.apply(lambda x: get_ratio(x), axis=1)\n",
    "\n",
    "#Creates three seperate dfs and x and y axes are create to compare in plots\n",
    "# Dfs are filtered based on profile varibles and comparision group\n",
    "# Bar1 is filtered based on profile 1 and comparision group. Top 10 in demand skills are given. \n",
    "bar1_filtered_df = filtered_df[filtered_df['groups'] == comparision_group].sort_values(by='ratio', ascending=True).tail(10)\n",
    "y = bar1_filtered_df['ratio']\n",
    "x = bar1_filtered_df['index'].str.capitalize()\n",
    "\n",
    "\n",
    "# TODO fix y \n",
    "# Bar2 is filtered based on profile 2 and comparision group. This uses the most in demand skills from profile 1 for direct skill by skill comparision.\n",
    "bar2_filtered_df = filtered_df2[filtered_df2['groups'] == comparision_group]\n",
    "x_2 = x\n",
    "\n",
    "y_list = []\n",
    "for item in bar1_filtered_df['index']:\n",
    "    new_y = bar2_filtered_df[bar2_filtered_df['index'] == item]['ratio'].values[0]\n",
    "    y_list.append(new_y)\n",
    "y_2 = y_list\n",
    "\n",
    "# Bar3 is filtered based on profile 2 and comparision group. It sorts the top 10 indemand skills for profile 2 \n",
    "bar3_filtered_df = filtered_df2[filtered_df2['groups'] == comparision_group].sort_values(by='ratio', ascending=True).tail(10)\n",
    "x_3 = bar3_filtered_df['index'].str.capitalize()\n",
    "y_3 =  bar3_filtered_df['ratio']\n",
    "\n",
    "print(bar1_filtered_df)\n",
    "print(bar2_filtered_df)\n"
   ]
  },
  {
   "cell_type": "markdown",
   "metadata": {},
   "source": [
    "### Comparision bar plot "
   ]
  },
  {
   "cell_type": "code",
   "execution_count": 28,
   "metadata": {},
   "outputs": [
    {
     "data": {
      "application/vnd.plotly.v1+json": {
       "config": {
        "plotlyServerURL": "https://plot.ly"
       },
       "data": [
        {
         "marker": {
          "color": "rgb(128, 0, 128)"
         },
         "name": "Job: analyst\n        Experience: 5+\n        Degree: phd",
         "orientation": "h",
         "text": [
          4,
          4,
          5,
          5,
          5,
          5,
          7,
          8,
          10,
          22
         ],
         "textposition": "inside",
         "type": "bar",
         "x": [
          4,
          4,
          5,
          5,
          5,
          5,
          7,
          8,
          10,
          22
         ],
         "y": [
          "Deploy",
          "Cloud",
          "Mining",
          "Decision trees",
          "Architecture",
          "Optimization",
          "Automation",
          "Deep",
          "Relational data",
          "Visualization"
         ]
        },
        {
         "marker": {
          "color": "rgba(120, 140, 120, 0.5)"
         },
         "name": "Job: scientist\n        Experience: 5+\n        Degree: phd",
         "orientation": "h",
         "text": [
          "20",
          "40",
          "28",
          "58",
          "11",
          "40",
          "37",
          "64",
          "25",
          "79"
         ],
         "textposition": "inside",
         "type": "bar",
         "x": [
          20,
          40,
          28,
          58,
          11,
          40,
          37,
          64,
          25,
          79
         ],
         "y": [
          "Deploy",
          "Cloud",
          "Mining",
          "Decision trees",
          "Architecture",
          "Optimization",
          "Automation",
          "Deep",
          "Relational data",
          "Visualization"
         ]
        }
       ],
       "layout": {
        "annotations": [
         {
          "font": {
           "color": "rgb(150,150,150)",
           "family": "Arial",
           "size": 10
          },
          "showarrow": false,
          "text": "Figures are number of job posts a certain skills is mentioned in. As a percentage of total of the group",
          "x": 0.2,
          "xref": "paper",
          "y": -0.109,
          "yref": "paper"
         },
         {
          "align": "left",
          "font": {
           "color": "rgb(150,150,150)",
           "family": "Arial",
           "size": 14
          },
          "showarrow": false,
          "text": "Most in demand skills for job profile 1 (purple).<br>Compared with profile 2 (grey)</br>",
          "x": 0,
          "xref": "paper",
          "y": 0.98,
          "yref": "paper"
         }
        ],
        "barmode": "group",
        "height": 750,
        "legend": {
         "font": {
          "size": 16
         },
         "x": 0.4,
         "y": 0.93
        },
        "margin": {
         "b": 70,
         "l": 100,
         "r": 20,
         "t": 70
        },
        "paper_bgcolor": "rgb(248, 248, 255)",
        "plot_bgcolor": "rgb(248, 248, 255)",
        "template": {
         "data": {
          "bar": [
           {
            "error_x": {
             "color": "#2a3f5f"
            },
            "error_y": {
             "color": "#2a3f5f"
            },
            "marker": {
             "line": {
              "color": "#E5ECF6",
              "width": 0.5
             },
             "pattern": {
              "fillmode": "overlay",
              "size": 10,
              "solidity": 0.2
             }
            },
            "type": "bar"
           }
          ],
          "barpolar": [
           {
            "marker": {
             "line": {
              "color": "#E5ECF6",
              "width": 0.5
             },
             "pattern": {
              "fillmode": "overlay",
              "size": 10,
              "solidity": 0.2
             }
            },
            "type": "barpolar"
           }
          ],
          "carpet": [
           {
            "aaxis": {
             "endlinecolor": "#2a3f5f",
             "gridcolor": "white",
             "linecolor": "white",
             "minorgridcolor": "white",
             "startlinecolor": "#2a3f5f"
            },
            "baxis": {
             "endlinecolor": "#2a3f5f",
             "gridcolor": "white",
             "linecolor": "white",
             "minorgridcolor": "white",
             "startlinecolor": "#2a3f5f"
            },
            "type": "carpet"
           }
          ],
          "choropleth": [
           {
            "colorbar": {
             "outlinewidth": 0,
             "ticks": ""
            },
            "type": "choropleth"
           }
          ],
          "contour": [
           {
            "colorbar": {
             "outlinewidth": 0,
             "ticks": ""
            },
            "colorscale": [
             [
              0,
              "#0d0887"
             ],
             [
              0.1111111111111111,
              "#46039f"
             ],
             [
              0.2222222222222222,
              "#7201a8"
             ],
             [
              0.3333333333333333,
              "#9c179e"
             ],
             [
              0.4444444444444444,
              "#bd3786"
             ],
             [
              0.5555555555555556,
              "#d8576b"
             ],
             [
              0.6666666666666666,
              "#ed7953"
             ],
             [
              0.7777777777777778,
              "#fb9f3a"
             ],
             [
              0.8888888888888888,
              "#fdca26"
             ],
             [
              1,
              "#f0f921"
             ]
            ],
            "type": "contour"
           }
          ],
          "contourcarpet": [
           {
            "colorbar": {
             "outlinewidth": 0,
             "ticks": ""
            },
            "type": "contourcarpet"
           }
          ],
          "heatmap": [
           {
            "colorbar": {
             "outlinewidth": 0,
             "ticks": ""
            },
            "colorscale": [
             [
              0,
              "#0d0887"
             ],
             [
              0.1111111111111111,
              "#46039f"
             ],
             [
              0.2222222222222222,
              "#7201a8"
             ],
             [
              0.3333333333333333,
              "#9c179e"
             ],
             [
              0.4444444444444444,
              "#bd3786"
             ],
             [
              0.5555555555555556,
              "#d8576b"
             ],
             [
              0.6666666666666666,
              "#ed7953"
             ],
             [
              0.7777777777777778,
              "#fb9f3a"
             ],
             [
              0.8888888888888888,
              "#fdca26"
             ],
             [
              1,
              "#f0f921"
             ]
            ],
            "type": "heatmap"
           }
          ],
          "heatmapgl": [
           {
            "colorbar": {
             "outlinewidth": 0,
             "ticks": ""
            },
            "colorscale": [
             [
              0,
              "#0d0887"
             ],
             [
              0.1111111111111111,
              "#46039f"
             ],
             [
              0.2222222222222222,
              "#7201a8"
             ],
             [
              0.3333333333333333,
              "#9c179e"
             ],
             [
              0.4444444444444444,
              "#bd3786"
             ],
             [
              0.5555555555555556,
              "#d8576b"
             ],
             [
              0.6666666666666666,
              "#ed7953"
             ],
             [
              0.7777777777777778,
              "#fb9f3a"
             ],
             [
              0.8888888888888888,
              "#fdca26"
             ],
             [
              1,
              "#f0f921"
             ]
            ],
            "type": "heatmapgl"
           }
          ],
          "histogram": [
           {
            "marker": {
             "pattern": {
              "fillmode": "overlay",
              "size": 10,
              "solidity": 0.2
             }
            },
            "type": "histogram"
           }
          ],
          "histogram2d": [
           {
            "colorbar": {
             "outlinewidth": 0,
             "ticks": ""
            },
            "colorscale": [
             [
              0,
              "#0d0887"
             ],
             [
              0.1111111111111111,
              "#46039f"
             ],
             [
              0.2222222222222222,
              "#7201a8"
             ],
             [
              0.3333333333333333,
              "#9c179e"
             ],
             [
              0.4444444444444444,
              "#bd3786"
             ],
             [
              0.5555555555555556,
              "#d8576b"
             ],
             [
              0.6666666666666666,
              "#ed7953"
             ],
             [
              0.7777777777777778,
              "#fb9f3a"
             ],
             [
              0.8888888888888888,
              "#fdca26"
             ],
             [
              1,
              "#f0f921"
             ]
            ],
            "type": "histogram2d"
           }
          ],
          "histogram2dcontour": [
           {
            "colorbar": {
             "outlinewidth": 0,
             "ticks": ""
            },
            "colorscale": [
             [
              0,
              "#0d0887"
             ],
             [
              0.1111111111111111,
              "#46039f"
             ],
             [
              0.2222222222222222,
              "#7201a8"
             ],
             [
              0.3333333333333333,
              "#9c179e"
             ],
             [
              0.4444444444444444,
              "#bd3786"
             ],
             [
              0.5555555555555556,
              "#d8576b"
             ],
             [
              0.6666666666666666,
              "#ed7953"
             ],
             [
              0.7777777777777778,
              "#fb9f3a"
             ],
             [
              0.8888888888888888,
              "#fdca26"
             ],
             [
              1,
              "#f0f921"
             ]
            ],
            "type": "histogram2dcontour"
           }
          ],
          "mesh3d": [
           {
            "colorbar": {
             "outlinewidth": 0,
             "ticks": ""
            },
            "type": "mesh3d"
           }
          ],
          "parcoords": [
           {
            "line": {
             "colorbar": {
              "outlinewidth": 0,
              "ticks": ""
             }
            },
            "type": "parcoords"
           }
          ],
          "pie": [
           {
            "automargin": true,
            "type": "pie"
           }
          ],
          "scatter": [
           {
            "fillpattern": {
             "fillmode": "overlay",
             "size": 10,
             "solidity": 0.2
            },
            "type": "scatter"
           }
          ],
          "scatter3d": [
           {
            "line": {
             "colorbar": {
              "outlinewidth": 0,
              "ticks": ""
             }
            },
            "marker": {
             "colorbar": {
              "outlinewidth": 0,
              "ticks": ""
             }
            },
            "type": "scatter3d"
           }
          ],
          "scattercarpet": [
           {
            "marker": {
             "colorbar": {
              "outlinewidth": 0,
              "ticks": ""
             }
            },
            "type": "scattercarpet"
           }
          ],
          "scattergeo": [
           {
            "marker": {
             "colorbar": {
              "outlinewidth": 0,
              "ticks": ""
             }
            },
            "type": "scattergeo"
           }
          ],
          "scattergl": [
           {
            "marker": {
             "colorbar": {
              "outlinewidth": 0,
              "ticks": ""
             }
            },
            "type": "scattergl"
           }
          ],
          "scattermapbox": [
           {
            "marker": {
             "colorbar": {
              "outlinewidth": 0,
              "ticks": ""
             }
            },
            "type": "scattermapbox"
           }
          ],
          "scatterpolar": [
           {
            "marker": {
             "colorbar": {
              "outlinewidth": 0,
              "ticks": ""
             }
            },
            "type": "scatterpolar"
           }
          ],
          "scatterpolargl": [
           {
            "marker": {
             "colorbar": {
              "outlinewidth": 0,
              "ticks": ""
             }
            },
            "type": "scatterpolargl"
           }
          ],
          "scatterternary": [
           {
            "marker": {
             "colorbar": {
              "outlinewidth": 0,
              "ticks": ""
             }
            },
            "type": "scatterternary"
           }
          ],
          "surface": [
           {
            "colorbar": {
             "outlinewidth": 0,
             "ticks": ""
            },
            "colorscale": [
             [
              0,
              "#0d0887"
             ],
             [
              0.1111111111111111,
              "#46039f"
             ],
             [
              0.2222222222222222,
              "#7201a8"
             ],
             [
              0.3333333333333333,
              "#9c179e"
             ],
             [
              0.4444444444444444,
              "#bd3786"
             ],
             [
              0.5555555555555556,
              "#d8576b"
             ],
             [
              0.6666666666666666,
              "#ed7953"
             ],
             [
              0.7777777777777778,
              "#fb9f3a"
             ],
             [
              0.8888888888888888,
              "#fdca26"
             ],
             [
              1,
              "#f0f921"
             ]
            ],
            "type": "surface"
           }
          ],
          "table": [
           {
            "cells": {
             "fill": {
              "color": "#EBF0F8"
             },
             "line": {
              "color": "white"
             }
            },
            "header": {
             "fill": {
              "color": "#C8D4E3"
             },
             "line": {
              "color": "white"
             }
            },
            "type": "table"
           }
          ]
         },
         "layout": {
          "annotationdefaults": {
           "arrowcolor": "#2a3f5f",
           "arrowhead": 0,
           "arrowwidth": 1
          },
          "autotypenumbers": "strict",
          "coloraxis": {
           "colorbar": {
            "outlinewidth": 0,
            "ticks": ""
           }
          },
          "colorscale": {
           "diverging": [
            [
             0,
             "#8e0152"
            ],
            [
             0.1,
             "#c51b7d"
            ],
            [
             0.2,
             "#de77ae"
            ],
            [
             0.3,
             "#f1b6da"
            ],
            [
             0.4,
             "#fde0ef"
            ],
            [
             0.5,
             "#f7f7f7"
            ],
            [
             0.6,
             "#e6f5d0"
            ],
            [
             0.7,
             "#b8e186"
            ],
            [
             0.8,
             "#7fbc41"
            ],
            [
             0.9,
             "#4d9221"
            ],
            [
             1,
             "#276419"
            ]
           ],
           "sequential": [
            [
             0,
             "#0d0887"
            ],
            [
             0.1111111111111111,
             "#46039f"
            ],
            [
             0.2222222222222222,
             "#7201a8"
            ],
            [
             0.3333333333333333,
             "#9c179e"
            ],
            [
             0.4444444444444444,
             "#bd3786"
            ],
            [
             0.5555555555555556,
             "#d8576b"
            ],
            [
             0.6666666666666666,
             "#ed7953"
            ],
            [
             0.7777777777777778,
             "#fb9f3a"
            ],
            [
             0.8888888888888888,
             "#fdca26"
            ],
            [
             1,
             "#f0f921"
            ]
           ],
           "sequentialminus": [
            [
             0,
             "#0d0887"
            ],
            [
             0.1111111111111111,
             "#46039f"
            ],
            [
             0.2222222222222222,
             "#7201a8"
            ],
            [
             0.3333333333333333,
             "#9c179e"
            ],
            [
             0.4444444444444444,
             "#bd3786"
            ],
            [
             0.5555555555555556,
             "#d8576b"
            ],
            [
             0.6666666666666666,
             "#ed7953"
            ],
            [
             0.7777777777777778,
             "#fb9f3a"
            ],
            [
             0.8888888888888888,
             "#fdca26"
            ],
            [
             1,
             "#f0f921"
            ]
           ]
          },
          "colorway": [
           "#636efa",
           "#EF553B",
           "#00cc96",
           "#ab63fa",
           "#FFA15A",
           "#19d3f3",
           "#FF6692",
           "#B6E880",
           "#FF97FF",
           "#FECB52"
          ],
          "font": {
           "color": "#2a3f5f"
          },
          "geo": {
           "bgcolor": "white",
           "lakecolor": "white",
           "landcolor": "#E5ECF6",
           "showlakes": true,
           "showland": true,
           "subunitcolor": "white"
          },
          "hoverlabel": {
           "align": "left"
          },
          "hovermode": "closest",
          "mapbox": {
           "style": "light"
          },
          "paper_bgcolor": "white",
          "plot_bgcolor": "#E5ECF6",
          "polar": {
           "angularaxis": {
            "gridcolor": "white",
            "linecolor": "white",
            "ticks": ""
           },
           "bgcolor": "#E5ECF6",
           "radialaxis": {
            "gridcolor": "white",
            "linecolor": "white",
            "ticks": ""
           }
          },
          "scene": {
           "xaxis": {
            "backgroundcolor": "#E5ECF6",
            "gridcolor": "white",
            "gridwidth": 2,
            "linecolor": "white",
            "showbackground": true,
            "ticks": "",
            "zerolinecolor": "white"
           },
           "yaxis": {
            "backgroundcolor": "#E5ECF6",
            "gridcolor": "white",
            "gridwidth": 2,
            "linecolor": "white",
            "showbackground": true,
            "ticks": "",
            "zerolinecolor": "white"
           },
           "zaxis": {
            "backgroundcolor": "#E5ECF6",
            "gridcolor": "white",
            "gridwidth": 2,
            "linecolor": "white",
            "showbackground": true,
            "ticks": "",
            "zerolinecolor": "white"
           }
          },
          "shapedefaults": {
           "line": {
            "color": "#2a3f5f"
           }
          },
          "ternary": {
           "aaxis": {
            "gridcolor": "white",
            "linecolor": "white",
            "ticks": ""
           },
           "baxis": {
            "gridcolor": "white",
            "linecolor": "white",
            "ticks": ""
           },
           "bgcolor": "#E5ECF6",
           "caxis": {
            "gridcolor": "white",
            "linecolor": "white",
            "ticks": ""
           }
          },
          "title": {
           "x": 0.05
          },
          "xaxis": {
           "automargin": true,
           "gridcolor": "white",
           "linecolor": "white",
           "ticks": "",
           "title": {
            "standoff": 15
           },
           "zerolinecolor": "white",
           "zerolinewidth": 2
          },
          "yaxis": {
           "automargin": true,
           "gridcolor": "white",
           "linecolor": "white",
           "ticks": "",
           "title": {
            "standoff": 15
           },
           "zerolinecolor": "white",
           "zerolinewidth": 2
          }
         }
        },
        "title": {
         "font": {
          "color": "rgb(128, 0, 128)",
          "family": "verdana",
          "size": 24
         },
         "text": "Profile Comparsion",
         "x": 0.15,
         "xanchor": "center",
         "y": 0.92,
         "yanchor": "top"
        },
        "yaxis": {
         "domain": [
          0,
          0.85
         ],
         "showgrid": false,
         "showline": false,
         "showticklabels": true
        }
       }
      }
     },
     "metadata": {},
     "output_type": "display_data"
    }
   ],
   "source": [
    "### Create grouped bar chart to compare top ten skills from profile one with same skills for profile two \n",
    "\n",
    "fig = go.Figure(data=[\n",
    "    # Grouped bar principal plot\n",
    "    go.Bar(\n",
    "        name=f'''Job: {job}\n",
    "        Experience: {experience}\n",
    "        Degree: {degree}''', \n",
    "        x=y, \n",
    "        y=x,\n",
    "        marker=dict(\n",
    "            color='rgb(128, 0, 128)',\n",
    "            ),\n",
    "        text=y,\n",
    "        textposition='inside', \n",
    "        orientation='h'\n",
    "        ),\n",
    "    # Grouped bar secondary plot\n",
    "    go.Bar(\n",
    "        name=f'''Job: {job2}\n",
    "        Experience: {experience2}\n",
    "        Degree: {degree2}''', \n",
    "        x=y_2, \n",
    "        y=x_2, \n",
    "        marker=dict(\n",
    "            color='rgba(120, 140, 120, 0.5)',\n",
    "            ),\n",
    "        text= y_2,\n",
    "        textposition='inside', \n",
    "        orientation='h'\n",
    "        )\n",
    "])\n",
    "\n",
    "fig.update_layout(\n",
    "    barmode='group', \n",
    "    height= len(y) * 75,\n",
    "    )\n",
    "\n",
    "# Title \n",
    "fig.update_layout(\n",
    "    title=dict(\n",
    "        text= \"Profile Comparsion\",\n",
    "        y=0.92,\n",
    "        x=0.15,\n",
    "        xanchor='center',\n",
    "        yanchor= 'top',\n",
    "        font = dict(\n",
    "        family=\"verdana\",\n",
    "        size=24,\n",
    "        color='rgb(128, 0, 128)'\n",
    "        ),\n",
    "    ),\n",
    "\n",
    "    yaxis=dict(\n",
    "        showgrid=False,\n",
    "        showline=False,\n",
    "        showticklabels=True,\n",
    "        domain=[0, .85],\n",
    "    ),\n",
    "    legend=dict(x=0.4, y=0.93, font_size=16, ),\n",
    "    margin=dict(l=100, r=20, t=70, b=70),\n",
    "    paper_bgcolor='rgb(248, 248, 255)',\n",
    "    plot_bgcolor='rgb(248, 248, 255)',\n",
    "    )\n",
    "\n",
    "# Annotations\n",
    "annotations = []\n",
    "# Foot note \n",
    "annotations.append(dict(xref='paper', yref='paper',\n",
    "                        x=0.2, y=-0.109,\n",
    "                        text='Figures are number of job posts a certain skills is mentioned in. As a percentage of total of the group',\n",
    "                        font=dict(family='Arial', size=10, color='rgb(150,150,150)'),\n",
    "                        showarrow=False))\n",
    "\n",
    "# Title\n",
    "annotations.append(dict(xref='paper', yref='paper',\n",
    "                        x=0, \n",
    "                        y=0.98,\n",
    "                        align = \"left\",\n",
    "                        text=('Most in demand skills for job profile 1 (purple).<br>Compared with profile 2 (grey)</br>'),\n",
    "                        font=dict(family='Arial', size=14, color='rgb(150,150,150)'),\n",
    "                        showarrow=False))\n",
    "\n",
    "fig.update_layout(annotations=annotations)\n",
    "\n",
    "\n",
    "fig.show()"
   ]
  },
  {
   "cell_type": "markdown",
   "metadata": {},
   "source": [
    "### Most popular skills from each job profile "
   ]
  },
  {
   "cell_type": "code",
   "execution_count": 27,
   "metadata": {},
   "outputs": [
    {
     "data": {
      "application/vnd.plotly.v1+json": {
       "config": {
        "plotlyServerURL": "https://plot.ly"
       },
       "data": [
        {
         "marker": {
          "color": "rgba(50, 171, 96, 0.6)",
          "line": {
           "color": "rgba(50, 171, 96, 1.0)",
           "width": 1
          }
         },
         "name": "<b>Analyst</b>  Exp: <b>5+</b>  Degree: <b>Phd</b>        ",
         "orientation": "h",
         "type": "bar",
         "x": [
          4,
          4,
          5,
          5,
          5,
          5,
          7,
          8,
          10,
          22
         ],
         "xaxis": "x",
         "y": [
          "Deploy",
          "Cloud",
          "Mining",
          "Decision trees",
          "Architecture",
          "Optimization",
          "Automation",
          "Deep",
          "Relational data",
          "Visualization"
         ],
         "yaxis": "y"
        },
        {
         "marker": {
          "color": "rgb(128, 0, 128)",
          "line": {
           "color": "rgb(128, 0, 128)",
           "width": 1
          }
         },
         "name": "<b>Scientist</b>  Exp: <b>5+</b>  Degree: <b>Phd</b>        ",
         "orientation": "h",
         "type": "bar",
         "x": [
          28,
          28,
          28,
          37,
          40,
          40,
          47,
          58,
          64,
          79
         ],
         "xaxis": "x2",
         "y": [
          "Neural",
          "Mining",
          "Classification",
          "Automation",
          "Cloud",
          "Optimization",
          "Regression",
          "Decision trees",
          "Deep",
          "Visualization"
         ],
         "yaxis": "y2"
        }
       ],
       "layout": {
        "annotations": [
         {
          "font": {
           "color": "rgb(0, 0, 0)",
           "family": "Arial",
           "size": 12
          },
          "showarrow": false,
          "text": "4%",
          "x": 0.5,
          "xref": "x",
          "y": "Deploy",
          "yref": "y"
         },
         {
          "font": {
           "color": "rgb(248, 248, 255)",
           "family": "Arial",
           "size": 12
          },
          "showarrow": false,
          "text": "28%",
          "x": 0.5,
          "xref": "x2",
          "y": "Neural",
          "yref": "y2"
         },
         {
          "font": {
           "color": "rgb(0, 0, 0)",
           "family": "Arial",
           "size": 12
          },
          "showarrow": false,
          "text": "4%",
          "x": 0.5,
          "xref": "x",
          "y": "Cloud",
          "yref": "y"
         },
         {
          "font": {
           "color": "rgb(248, 248, 255)",
           "family": "Arial",
           "size": 12
          },
          "showarrow": false,
          "text": "28%",
          "x": 0.5,
          "xref": "x2",
          "y": "Mining",
          "yref": "y2"
         },
         {
          "font": {
           "color": "rgb(0, 0, 0)",
           "family": "Arial",
           "size": 12
          },
          "showarrow": false,
          "text": "5%",
          "x": 0.5,
          "xref": "x",
          "y": "Mining",
          "yref": "y"
         },
         {
          "font": {
           "color": "rgb(248, 248, 255)",
           "family": "Arial",
           "size": 12
          },
          "showarrow": false,
          "text": "28%",
          "x": 0.5,
          "xref": "x2",
          "y": "Classification",
          "yref": "y2"
         },
         {
          "font": {
           "color": "rgb(0, 0, 0)",
           "family": "Arial",
           "size": 12
          },
          "showarrow": false,
          "text": "5%",
          "x": 0.5,
          "xref": "x",
          "y": "Decision trees",
          "yref": "y"
         },
         {
          "font": {
           "color": "rgb(248, 248, 255)",
           "family": "Arial",
           "size": 12
          },
          "showarrow": false,
          "text": "37%",
          "x": 0.5,
          "xref": "x2",
          "y": "Automation",
          "yref": "y2"
         },
         {
          "font": {
           "color": "rgb(0, 0, 0)",
           "family": "Arial",
           "size": 12
          },
          "showarrow": false,
          "text": "5%",
          "x": 0.5,
          "xref": "x",
          "y": "Architecture",
          "yref": "y"
         },
         {
          "font": {
           "color": "rgb(248, 248, 255)",
           "family": "Arial",
           "size": 12
          },
          "showarrow": false,
          "text": "40%",
          "x": 0.5,
          "xref": "x2",
          "y": "Cloud",
          "yref": "y2"
         },
         {
          "font": {
           "color": "rgb(0, 0, 0)",
           "family": "Arial",
           "size": 12
          },
          "showarrow": false,
          "text": "5%",
          "x": 0.5,
          "xref": "x",
          "y": "Optimization",
          "yref": "y"
         },
         {
          "font": {
           "color": "rgb(248, 248, 255)",
           "family": "Arial",
           "size": 12
          },
          "showarrow": false,
          "text": "40%",
          "x": 0.5,
          "xref": "x2",
          "y": "Optimization",
          "yref": "y2"
         },
         {
          "font": {
           "color": "rgb(0, 0, 0)",
           "family": "Arial",
           "size": 12
          },
          "showarrow": false,
          "text": "7%",
          "x": 0.5,
          "xref": "x",
          "y": "Automation",
          "yref": "y"
         },
         {
          "font": {
           "color": "rgb(248, 248, 255)",
           "family": "Arial",
           "size": 12
          },
          "showarrow": false,
          "text": "47%",
          "x": 0.5,
          "xref": "x2",
          "y": "Regression",
          "yref": "y2"
         },
         {
          "font": {
           "color": "rgb(0, 0, 0)",
           "family": "Arial",
           "size": 12
          },
          "showarrow": false,
          "text": "8%",
          "x": 0.5,
          "xref": "x",
          "y": "Deep",
          "yref": "y"
         },
         {
          "font": {
           "color": "rgb(248, 248, 255)",
           "family": "Arial",
           "size": 12
          },
          "showarrow": false,
          "text": "58%",
          "x": 0.5,
          "xref": "x2",
          "y": "Decision trees",
          "yref": "y2"
         },
         {
          "font": {
           "color": "rgb(0, 0, 0)",
           "family": "Arial",
           "size": 12
          },
          "showarrow": false,
          "text": "10%",
          "x": 0.5,
          "xref": "x",
          "y": "Relational data",
          "yref": "y"
         },
         {
          "font": {
           "color": "rgb(248, 248, 255)",
           "family": "Arial",
           "size": 12
          },
          "showarrow": false,
          "text": "64%",
          "x": 0.5,
          "xref": "x2",
          "y": "Deep",
          "yref": "y2"
         },
         {
          "font": {
           "color": "rgb(0, 0, 0)",
           "family": "Arial",
           "size": 12
          },
          "showarrow": false,
          "text": "22%",
          "x": 0.5,
          "xref": "x",
          "y": "Visualization",
          "yref": "y"
         },
         {
          "font": {
           "color": "rgb(248, 248, 255)",
           "family": "Arial",
           "size": 12
          },
          "showarrow": false,
          "text": "79%",
          "x": 0.5,
          "xref": "x2",
          "y": "Visualization",
          "yref": "y2"
         },
         {
          "font": {
           "color": "rgb(150,150,150)",
           "family": "Arial",
           "size": 10
          },
          "showarrow": false,
          "text": "Figures are number of job posts a certain skills is mentioned in. As a percentage of total of the group",
          "x": -0.2,
          "xref": "paper",
          "y": -0.109,
          "yref": "paper"
         }
        ],
        "legend": {
         "font": {
          "size": 12
         },
         "orientation": "h",
         "x": 0.5,
         "xanchor": "center",
         "y": 1.048
        },
        "margin": {
         "b": 70,
         "l": 100,
         "r": 20,
         "t": 70
        },
        "paper_bgcolor": "rgb(248, 248, 255)",
        "plot_bgcolor": "rgb(248, 248, 255)",
        "template": {
         "data": {
          "bar": [
           {
            "error_x": {
             "color": "#2a3f5f"
            },
            "error_y": {
             "color": "#2a3f5f"
            },
            "marker": {
             "line": {
              "color": "#E5ECF6",
              "width": 0.5
             },
             "pattern": {
              "fillmode": "overlay",
              "size": 10,
              "solidity": 0.2
             }
            },
            "type": "bar"
           }
          ],
          "barpolar": [
           {
            "marker": {
             "line": {
              "color": "#E5ECF6",
              "width": 0.5
             },
             "pattern": {
              "fillmode": "overlay",
              "size": 10,
              "solidity": 0.2
             }
            },
            "type": "barpolar"
           }
          ],
          "carpet": [
           {
            "aaxis": {
             "endlinecolor": "#2a3f5f",
             "gridcolor": "white",
             "linecolor": "white",
             "minorgridcolor": "white",
             "startlinecolor": "#2a3f5f"
            },
            "baxis": {
             "endlinecolor": "#2a3f5f",
             "gridcolor": "white",
             "linecolor": "white",
             "minorgridcolor": "white",
             "startlinecolor": "#2a3f5f"
            },
            "type": "carpet"
           }
          ],
          "choropleth": [
           {
            "colorbar": {
             "outlinewidth": 0,
             "ticks": ""
            },
            "type": "choropleth"
           }
          ],
          "contour": [
           {
            "colorbar": {
             "outlinewidth": 0,
             "ticks": ""
            },
            "colorscale": [
             [
              0,
              "#0d0887"
             ],
             [
              0.1111111111111111,
              "#46039f"
             ],
             [
              0.2222222222222222,
              "#7201a8"
             ],
             [
              0.3333333333333333,
              "#9c179e"
             ],
             [
              0.4444444444444444,
              "#bd3786"
             ],
             [
              0.5555555555555556,
              "#d8576b"
             ],
             [
              0.6666666666666666,
              "#ed7953"
             ],
             [
              0.7777777777777778,
              "#fb9f3a"
             ],
             [
              0.8888888888888888,
              "#fdca26"
             ],
             [
              1,
              "#f0f921"
             ]
            ],
            "type": "contour"
           }
          ],
          "contourcarpet": [
           {
            "colorbar": {
             "outlinewidth": 0,
             "ticks": ""
            },
            "type": "contourcarpet"
           }
          ],
          "heatmap": [
           {
            "colorbar": {
             "outlinewidth": 0,
             "ticks": ""
            },
            "colorscale": [
             [
              0,
              "#0d0887"
             ],
             [
              0.1111111111111111,
              "#46039f"
             ],
             [
              0.2222222222222222,
              "#7201a8"
             ],
             [
              0.3333333333333333,
              "#9c179e"
             ],
             [
              0.4444444444444444,
              "#bd3786"
             ],
             [
              0.5555555555555556,
              "#d8576b"
             ],
             [
              0.6666666666666666,
              "#ed7953"
             ],
             [
              0.7777777777777778,
              "#fb9f3a"
             ],
             [
              0.8888888888888888,
              "#fdca26"
             ],
             [
              1,
              "#f0f921"
             ]
            ],
            "type": "heatmap"
           }
          ],
          "heatmapgl": [
           {
            "colorbar": {
             "outlinewidth": 0,
             "ticks": ""
            },
            "colorscale": [
             [
              0,
              "#0d0887"
             ],
             [
              0.1111111111111111,
              "#46039f"
             ],
             [
              0.2222222222222222,
              "#7201a8"
             ],
             [
              0.3333333333333333,
              "#9c179e"
             ],
             [
              0.4444444444444444,
              "#bd3786"
             ],
             [
              0.5555555555555556,
              "#d8576b"
             ],
             [
              0.6666666666666666,
              "#ed7953"
             ],
             [
              0.7777777777777778,
              "#fb9f3a"
             ],
             [
              0.8888888888888888,
              "#fdca26"
             ],
             [
              1,
              "#f0f921"
             ]
            ],
            "type": "heatmapgl"
           }
          ],
          "histogram": [
           {
            "marker": {
             "pattern": {
              "fillmode": "overlay",
              "size": 10,
              "solidity": 0.2
             }
            },
            "type": "histogram"
           }
          ],
          "histogram2d": [
           {
            "colorbar": {
             "outlinewidth": 0,
             "ticks": ""
            },
            "colorscale": [
             [
              0,
              "#0d0887"
             ],
             [
              0.1111111111111111,
              "#46039f"
             ],
             [
              0.2222222222222222,
              "#7201a8"
             ],
             [
              0.3333333333333333,
              "#9c179e"
             ],
             [
              0.4444444444444444,
              "#bd3786"
             ],
             [
              0.5555555555555556,
              "#d8576b"
             ],
             [
              0.6666666666666666,
              "#ed7953"
             ],
             [
              0.7777777777777778,
              "#fb9f3a"
             ],
             [
              0.8888888888888888,
              "#fdca26"
             ],
             [
              1,
              "#f0f921"
             ]
            ],
            "type": "histogram2d"
           }
          ],
          "histogram2dcontour": [
           {
            "colorbar": {
             "outlinewidth": 0,
             "ticks": ""
            },
            "colorscale": [
             [
              0,
              "#0d0887"
             ],
             [
              0.1111111111111111,
              "#46039f"
             ],
             [
              0.2222222222222222,
              "#7201a8"
             ],
             [
              0.3333333333333333,
              "#9c179e"
             ],
             [
              0.4444444444444444,
              "#bd3786"
             ],
             [
              0.5555555555555556,
              "#d8576b"
             ],
             [
              0.6666666666666666,
              "#ed7953"
             ],
             [
              0.7777777777777778,
              "#fb9f3a"
             ],
             [
              0.8888888888888888,
              "#fdca26"
             ],
             [
              1,
              "#f0f921"
             ]
            ],
            "type": "histogram2dcontour"
           }
          ],
          "mesh3d": [
           {
            "colorbar": {
             "outlinewidth": 0,
             "ticks": ""
            },
            "type": "mesh3d"
           }
          ],
          "parcoords": [
           {
            "line": {
             "colorbar": {
              "outlinewidth": 0,
              "ticks": ""
             }
            },
            "type": "parcoords"
           }
          ],
          "pie": [
           {
            "automargin": true,
            "type": "pie"
           }
          ],
          "scatter": [
           {
            "fillpattern": {
             "fillmode": "overlay",
             "size": 10,
             "solidity": 0.2
            },
            "type": "scatter"
           }
          ],
          "scatter3d": [
           {
            "line": {
             "colorbar": {
              "outlinewidth": 0,
              "ticks": ""
             }
            },
            "marker": {
             "colorbar": {
              "outlinewidth": 0,
              "ticks": ""
             }
            },
            "type": "scatter3d"
           }
          ],
          "scattercarpet": [
           {
            "marker": {
             "colorbar": {
              "outlinewidth": 0,
              "ticks": ""
             }
            },
            "type": "scattercarpet"
           }
          ],
          "scattergeo": [
           {
            "marker": {
             "colorbar": {
              "outlinewidth": 0,
              "ticks": ""
             }
            },
            "type": "scattergeo"
           }
          ],
          "scattergl": [
           {
            "marker": {
             "colorbar": {
              "outlinewidth": 0,
              "ticks": ""
             }
            },
            "type": "scattergl"
           }
          ],
          "scattermapbox": [
           {
            "marker": {
             "colorbar": {
              "outlinewidth": 0,
              "ticks": ""
             }
            },
            "type": "scattermapbox"
           }
          ],
          "scatterpolar": [
           {
            "marker": {
             "colorbar": {
              "outlinewidth": 0,
              "ticks": ""
             }
            },
            "type": "scatterpolar"
           }
          ],
          "scatterpolargl": [
           {
            "marker": {
             "colorbar": {
              "outlinewidth": 0,
              "ticks": ""
             }
            },
            "type": "scatterpolargl"
           }
          ],
          "scatterternary": [
           {
            "marker": {
             "colorbar": {
              "outlinewidth": 0,
              "ticks": ""
             }
            },
            "type": "scatterternary"
           }
          ],
          "surface": [
           {
            "colorbar": {
             "outlinewidth": 0,
             "ticks": ""
            },
            "colorscale": [
             [
              0,
              "#0d0887"
             ],
             [
              0.1111111111111111,
              "#46039f"
             ],
             [
              0.2222222222222222,
              "#7201a8"
             ],
             [
              0.3333333333333333,
              "#9c179e"
             ],
             [
              0.4444444444444444,
              "#bd3786"
             ],
             [
              0.5555555555555556,
              "#d8576b"
             ],
             [
              0.6666666666666666,
              "#ed7953"
             ],
             [
              0.7777777777777778,
              "#fb9f3a"
             ],
             [
              0.8888888888888888,
              "#fdca26"
             ],
             [
              1,
              "#f0f921"
             ]
            ],
            "type": "surface"
           }
          ],
          "table": [
           {
            "cells": {
             "fill": {
              "color": "#EBF0F8"
             },
             "line": {
              "color": "white"
             }
            },
            "header": {
             "fill": {
              "color": "#C8D4E3"
             },
             "line": {
              "color": "white"
             }
            },
            "type": "table"
           }
          ]
         },
         "layout": {
          "annotationdefaults": {
           "arrowcolor": "#2a3f5f",
           "arrowhead": 0,
           "arrowwidth": 1
          },
          "autotypenumbers": "strict",
          "coloraxis": {
           "colorbar": {
            "outlinewidth": 0,
            "ticks": ""
           }
          },
          "colorscale": {
           "diverging": [
            [
             0,
             "#8e0152"
            ],
            [
             0.1,
             "#c51b7d"
            ],
            [
             0.2,
             "#de77ae"
            ],
            [
             0.3,
             "#f1b6da"
            ],
            [
             0.4,
             "#fde0ef"
            ],
            [
             0.5,
             "#f7f7f7"
            ],
            [
             0.6,
             "#e6f5d0"
            ],
            [
             0.7,
             "#b8e186"
            ],
            [
             0.8,
             "#7fbc41"
            ],
            [
             0.9,
             "#4d9221"
            ],
            [
             1,
             "#276419"
            ]
           ],
           "sequential": [
            [
             0,
             "#0d0887"
            ],
            [
             0.1111111111111111,
             "#46039f"
            ],
            [
             0.2222222222222222,
             "#7201a8"
            ],
            [
             0.3333333333333333,
             "#9c179e"
            ],
            [
             0.4444444444444444,
             "#bd3786"
            ],
            [
             0.5555555555555556,
             "#d8576b"
            ],
            [
             0.6666666666666666,
             "#ed7953"
            ],
            [
             0.7777777777777778,
             "#fb9f3a"
            ],
            [
             0.8888888888888888,
             "#fdca26"
            ],
            [
             1,
             "#f0f921"
            ]
           ],
           "sequentialminus": [
            [
             0,
             "#0d0887"
            ],
            [
             0.1111111111111111,
             "#46039f"
            ],
            [
             0.2222222222222222,
             "#7201a8"
            ],
            [
             0.3333333333333333,
             "#9c179e"
            ],
            [
             0.4444444444444444,
             "#bd3786"
            ],
            [
             0.5555555555555556,
             "#d8576b"
            ],
            [
             0.6666666666666666,
             "#ed7953"
            ],
            [
             0.7777777777777778,
             "#fb9f3a"
            ],
            [
             0.8888888888888888,
             "#fdca26"
            ],
            [
             1,
             "#f0f921"
            ]
           ]
          },
          "colorway": [
           "#636efa",
           "#EF553B",
           "#00cc96",
           "#ab63fa",
           "#FFA15A",
           "#19d3f3",
           "#FF6692",
           "#B6E880",
           "#FF97FF",
           "#FECB52"
          ],
          "font": {
           "color": "#2a3f5f"
          },
          "geo": {
           "bgcolor": "white",
           "lakecolor": "white",
           "landcolor": "#E5ECF6",
           "showlakes": true,
           "showland": true,
           "subunitcolor": "white"
          },
          "hoverlabel": {
           "align": "left"
          },
          "hovermode": "closest",
          "mapbox": {
           "style": "light"
          },
          "paper_bgcolor": "white",
          "plot_bgcolor": "#E5ECF6",
          "polar": {
           "angularaxis": {
            "gridcolor": "white",
            "linecolor": "white",
            "ticks": ""
           },
           "bgcolor": "#E5ECF6",
           "radialaxis": {
            "gridcolor": "white",
            "linecolor": "white",
            "ticks": ""
           }
          },
          "scene": {
           "xaxis": {
            "backgroundcolor": "#E5ECF6",
            "gridcolor": "white",
            "gridwidth": 2,
            "linecolor": "white",
            "showbackground": true,
            "ticks": "",
            "zerolinecolor": "white"
           },
           "yaxis": {
            "backgroundcolor": "#E5ECF6",
            "gridcolor": "white",
            "gridwidth": 2,
            "linecolor": "white",
            "showbackground": true,
            "ticks": "",
            "zerolinecolor": "white"
           },
           "zaxis": {
            "backgroundcolor": "#E5ECF6",
            "gridcolor": "white",
            "gridwidth": 2,
            "linecolor": "white",
            "showbackground": true,
            "ticks": "",
            "zerolinecolor": "white"
           }
          },
          "shapedefaults": {
           "line": {
            "color": "#2a3f5f"
           }
          },
          "ternary": {
           "aaxis": {
            "gridcolor": "white",
            "linecolor": "white",
            "ticks": ""
           },
           "baxis": {
            "gridcolor": "white",
            "linecolor": "white",
            "ticks": ""
           },
           "bgcolor": "#E5ECF6",
           "caxis": {
            "gridcolor": "white",
            "linecolor": "white",
            "ticks": ""
           }
          },
          "title": {
           "x": 0.05
          },
          "xaxis": {
           "automargin": true,
           "gridcolor": "white",
           "linecolor": "white",
           "ticks": "",
           "title": {
            "standoff": 15
           },
           "zerolinecolor": "white",
           "zerolinewidth": 2
          },
          "yaxis": {
           "automargin": true,
           "gridcolor": "white",
           "linecolor": "white",
           "ticks": "",
           "title": {
            "standoff": 15
           },
           "zerolinecolor": "white",
           "zerolinewidth": 2
          }
         }
        },
        "title": {
         "font": {
          "size": 26
         },
         "text": "Most in demand skills",
         "x": 0.5,
         "xanchor": "center"
        },
        "xaxis": {
         "anchor": "y",
         "autorange": "reversed",
         "domain": [
          0.1,
          0.49
         ],
         "showgrid": true,
         "showline": false,
         "showticklabels": false,
         "zeroline": false
        },
        "xaxis2": {
         "anchor": "y2",
         "domain": [
          0.51,
          0.9
         ],
         "showgrid": true,
         "showline": false,
         "showticklabels": false,
         "zeroline": false
        },
        "yaxis": {
         "anchor": "x",
         "domain": [
          0.1,
          0.85
         ],
         "showgrid": false,
         "showline": false,
         "showticklabels": true,
         "side": "right",
         "tickfont": {
          "size": 15
         },
         "ticklabelposition": "inside"
        },
        "yaxis2": {
         "anchor": "x2",
         "domain": [
          0.1,
          0.85
         ],
         "linecolor": "rgba(102, 102, 102, 0.8)",
         "linewidth": 2,
         "showgrid": false,
         "showline": false,
         "showticklabels": true,
         "tickfont": {
          "size": 15
         },
         "ticklabelposition": "inside"
        }
       }
      }
     },
     "metadata": {},
     "output_type": "display_data"
    }
   ],
   "source": [
    "### Create two bar plots side by side to compare most in demand skills from each profile \n",
    "\n",
    "# Creating two subplots\n",
    "fig = make_subplots(rows=1, cols=2, specs=[[{}, {}]], shared_xaxes=True,\n",
    "                    shared_yaxes=False,\n",
    "                    #vertical_spacing=0.0001\n",
    "                    )\n",
    "\n",
    "# Add bar chart for Profile 1 \n",
    "fig.add_trace(go.Bar(\n",
    "    x=y,\n",
    "    y=x,\n",
    "    marker=dict(\n",
    "        color='rgba(50, 171, 96, 0.6)',\n",
    "        line=dict(\n",
    "            color='rgba(50, 171, 96, 1.0)',\n",
    "            width=1),\n",
    "    ),\n",
    "    name= f'<b>{str.capitalize(job)}</b>  Exp: <b>{experience}</b>  Degree: <b>{str.capitalize(degree)}</b>        ',\n",
    "    orientation='h',\n",
    "), 1, 1)\n",
    "\n",
    "# Add bar chart for Profile 2\n",
    "fig.add_trace(go.Bar(\n",
    "    x=y_3, \n",
    "    y=x_3,\n",
    "    marker=dict(\n",
    "        color='rgb(128, 0, 128)',\n",
    "        line=dict(\n",
    "            color='rgb(128, 0, 128)',\n",
    "            width=1,)\n",
    "    ),\n",
    "    name=f'<b>{str.capitalize(job2)}</b>  Exp: <b>{experience2}</b>  Degree: <b>{str.capitalize(degree2)}</b>        ', \n",
    "    orientation='h',\n",
    "), 1, 2)\n",
    "\n",
    "# Title \n",
    "fig.update_layout(\n",
    "    title=dict(text='Most in demand skills',\n",
    "               font=dict(\n",
    "                   size=26,\n",
    "               ),\n",
    "               x = 0.5,\n",
    "               xanchor='center'\n",
    "    ),\n",
    "    \n",
    "    # Axes       \n",
    "    yaxis=dict(\n",
    "        showgrid=False,\n",
    "        showline=False,\n",
    "        showticklabels=True,\n",
    "        side= 'right',\n",
    "      \n",
    "        ticklabelposition=\"inside\",\n",
    "   \n",
    "        tickfont = dict(\n",
    "            size=15,\n",
    "           # color='rgba(102, 102, 102, 0.8)',\n",
    "           # family=  \"Droid Sans Mono\",\n",
    "            ),\n",
    "        domain=[0.1, 0.85],\n",
    "    ),\n",
    "    yaxis2=dict(\n",
    "        showgrid=False,\n",
    "        showline=False,\n",
    "        showticklabels=True,\n",
    "        ticklabelposition=\"inside\",   \n",
    "            tickfont = dict(\n",
    "            size=15,\n",
    "           # color='rgba(102, 102, 102, 0.8)',\n",
    "           # family=  \"Droid Sans Mono\",\n",
    "            ),\n",
    "        linecolor='rgba(102, 102, 102, 0.8)',\n",
    "        linewidth=2,\n",
    "        domain=[0.1, 0.85],\n",
    "    ),\n",
    "    xaxis=dict(\n",
    "        zeroline=False,\n",
    "        showline=False,\n",
    "        showticklabels=False,\n",
    "        showgrid=True,\n",
    "        autorange=\"reversed\",\n",
    "        domain=[0.1, 0.49],\n",
    "    ),\n",
    "    xaxis2=dict(\n",
    "        zeroline=False,\n",
    "        showline=False,\n",
    "        showticklabels=False,\n",
    "        showgrid=True,\n",
    "        domain=[0.51, 0.9],\n",
    "        #side='top',\n",
    "        #dtick=25000,\n",
    "    ),\n",
    "    \n",
    "    legend=dict(\n",
    "        x=0.5,\n",
    "        y=1.048, font_size=12, orientation = 'h', xanchor='center',),\n",
    "    margin=dict(l=100, r=20, t=70, b=70),\n",
    "    paper_bgcolor='rgb(248, 248, 255)',\n",
    "    plot_bgcolor='rgb(248, 248, 255)',\n",
    "    #showlegend=False,\n",
    ")\n",
    "\n",
    "\n",
    "# Annotations \n",
    "annotations = []\n",
    "# Adding percentage labels \n",
    "for yd, y_3d, xd, x_3d in zip(y, y_3, x, x_3):\n",
    "    # Percentage labels for Profile 1 plot\n",
    "    annotations.append(dict(xref='x1', yref='y1',\n",
    "                            y=xd, x= 0.5,\n",
    "                            text=str(yd) + '%',\n",
    "                            font=dict(family='Arial', size=12,\n",
    "                                      color='rgb(0, 0, 0)'),\n",
    "                            showarrow=False))\n",
    "    # Percentage labels for Profile 2 plot\n",
    "    annotations.append(dict(xref='x2', yref='y2',\n",
    "                            y=x_3d, x=0.5,\n",
    "                            text=str(y_3d) + '%',\n",
    "                            font=dict(family='Arial', size=12,\n",
    "                                      color='rgb(248, 248, 255)'),\n",
    "                            showarrow=False))\n",
    "# Footnotes\n",
    "annotations.append(dict(xref='paper', yref='paper',\n",
    "                        x=-0.2, y=-0.109,\n",
    "                        text='Figures are number of job posts a certain skills is mentioned in. As a percentage of total of the group',\n",
    "                        font=dict(family='Arial', size=10, color='rgb(150,150,150)'),\n",
    "                        showarrow=False))\n",
    "\n",
    "fig.update_layout(annotations=annotations)\n",
    "\n",
    "fig.show() "
   ]
  }
 ],
 "metadata": {
  "kernelspec": {
   "display_name": "Python 3.9.6 ('venv': venv)",
   "language": "python",
   "name": "python3"
  },
  "language_info": {
   "codemirror_mode": {
    "name": "ipython",
    "version": 3
   },
   "file_extension": ".py",
   "mimetype": "text/x-python",
   "name": "python",
   "nbconvert_exporter": "python",
   "pygments_lexer": "ipython3",
   "version": "3.9.6"
  },
  "orig_nbformat": 4,
  "vscode": {
   "interpreter": {
    "hash": "9e47f7bd28b625b7bbbc7b2ec38bfbc2c696c8cb2638cc5e712aee4a5e054efa"
   }
  }
 },
 "nbformat": 4,
 "nbformat_minor": 2
}
