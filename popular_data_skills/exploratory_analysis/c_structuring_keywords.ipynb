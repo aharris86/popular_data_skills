{
 "cells": [
  {
   "cell_type": "markdown",
   "metadata": {},
   "source": [
    "# Structuring Keywords\n",
    "This notebook setouts to further structure the most common words found in the privous notebook. \n",
    "- Select keywords\n",
    "- Group similar words - with the same meaning \n",
    "- Group keywords - to allow for easier comparision.  Like languages and skills for easy comparision. \n",
    "-  \n",
    "- \n",
    "\n",
    "\n",
    " w keywords with many similar words that we want to group together. We also want to group the keywords into similar groups. \n",
    "\n",
    "a - inital wrangle   \n",
    "b - find common words  \n",
    "c - structure keywords - create two kewords lists for later use \n",
    "master list - make sim word list to compare list against for later reference. \n",
    "\n",
    "d - adding features final df  - create a df from keywords, group skills \n"
   ]
  },
  {
   "cell_type": "code",
   "execution_count": 8,
   "metadata": {},
   "outputs": [],
   "source": [
    "import numpy as np\n",
    "import pandas as pd \n",
    "import popular_data_skills.utils.keywords as kws\n",
    "import popular_data_skills.config.config as config"
   ]
  },
  {
   "cell_type": "markdown",
   "metadata": {},
   "source": [
    "## Select Keywords"
   ]
  },
  {
   "cell_type": "markdown",
   "metadata": {},
   "source": [
    "Currently the most popular words don't provide us with any valuable information. \n",
    "We need to select words related to skills.   \n",
    "Rather than adding more stop words we will select keywords by manually scanning through the most common words.    \n",
    "This is more accurate because manual inspection involves reading each word. Words won't be skipped which may be possible if we use an external list.   \n",
    "It also relies on the assessor's abillity to select the relevant words.    \n",
    "As this exercise doesnt require deep domain knowledge we will choose the manual method. \n",
    "As we are looking for only a few keywords this is the best way to collect a keyword list.   \n",
    "We will create a keywords class to store a manage our keywords this can be a dictionary of lists. Keys will be keywords and similar words will be in a list.    \n",
    " After checking the 1000 most common words for data scientist, data analyst and the two combined this is the set of words of interest also adding other words that may be relevant.      \n"
   ]
  },
  {
   "cell_type": "code",
   "execution_count": 9,
   "metadata": {},
   "outputs": [],
   "source": [
    "# words for entire df \n",
    "selected_words = ['a/b', 'advertising', 'ai', 'algorithm', 'analysis', 'analyst', 'analytic', 'analytical', 'analyze', 'analyzing', 'architecture', 'artificial', 'automate', 'automated', 'automation', 'aws', 'azure', 'bachelor', \"bachelor'\", 'bachelor’', 'bash', 'bayesian', 'bi', 'biology', 'biotechnology', 'c', 'c#', 'classification', 'clinical', 'cloud', 'cloudbased', 'clustering', 'code', 'coding', 'credit', 'crm', 'dashboard', 'database', 'decision', 'deep', 'degree', 'deploy', 'dna', 'documentation', 'economic', 'excel', 'exploratory', 'explore', 'finance', 'financial', 'forecasting', 'forest', 'fraud', 'genetic', 'google', 'government', 'hadoop', 'health', 'healthcare', 'insurance', 'investment', 'javascript', 'law','linux', 'm', 'machine', 'marketing', 'master', 'masters', 'master’', 'math', 'mathematic', 'mathematical', 'medical',  'mining', 'ml', 'model', 'modeling', 'modelling', 'ms', 'ms/phd', 'neural', 'nlp',  'numpy', 'optimization', 'oracle', 'pandas', 'perl', 'ph.d.', 'phd', 'pipeline', 'power', 'powerbi', 'predictions', 'preparation', 'problem-solving', 'problemsolving', 'programming', 'python', 'pytorch', 'r', 'recommend', 'recommendation', 'regression', 'regression', 'relational', 'sales', 'sas', 'scikitlearn', 'security', 'snowflake', 'spark', 'sql', 'sql', 'statistic', 'statistical', 'structured', 'supervised', 'tableau','tensorflow', 'testing', 'training', 'tree', 'unstructured', 'unsupervised', 'vision', 'visual','visualisation', 'visualization',]\n"
   ]
  },
  {
   "cell_type": "code",
   "execution_count": 10,
   "metadata": {},
   "outputs": [],
   "source": [
    "keywords = kws.Keywords()\n",
    "keywords.read_list(selected_words)\n",
    "keywords.save(config.SELECTED_WORDS)"
   ]
  },
  {
   "cell_type": "markdown",
   "metadata": {},
   "source": [
    "## Group similar words"
   ]
  },
  {
   "cell_type": "markdown",
   "metadata": {},
   "source": [
    "We have found most common words in the corpus but we need to structure them more. \n",
    "- There are many words that are similar like automate and automation. We should group these words together to act as one keyword. \n",
    "\n",
    "- Certain common words could mean different things like recomendation, recomendation system or a recomendation for an employee. We should make sure we are get the correct keyword. \n",
    "\n",
    "\n",
    "\n"
   ]
  },
  {
   "cell_type": "markdown",
   "metadata": {},
   "source": [
    "First we will create a dict of lists. The keys are the keywords and the values are a list of all similar words. We can then enter this into our keyword class to get structured keywords. "
   ]
  },
  {
   "cell_type": "code",
   "execution_count": 11,
   "metadata": {},
   "outputs": [],
   "source": [
    "refined_keywords={'statistics': ['statistic', 'statistical', 'statistics', 'mathematic', 'maths', 'mathematical', 'math','maths'], \n",
    "                  'analytics': ['analyst', 'analysis', 'analytic', 'analytical', 'analyzing', 'analyze','exploratory', 'explore'], \n",
    "                  'ML': ['machine', 'ml'], \n",
    "                  'algorithms': ['algorithm', 'algorithms'], \n",
    "                  'models': ['model', 'models', 'modeling', 'modelling'], \n",
    "                  'AI': ['artificial', 'ai', 'AI'], \n",
    "                  'databases': ['database', 'databases'], \n",
    "                  'masters degree': ['masters degree', 'ms/phd', 'masters', 'ms', 'master’', 'master', 'm'], \n",
    "                  'bachelor degree': ['bachelor', 'bachelor’', \"bachelor'\"], \n",
    "                  'any degree' : ['degree'],\n",
    "                  'phd': ['phd', 'ph.d.'], \n",
    "                  'automation': ['automated', 'automate', 'automation'], \n",
    "                  'coding': ['code', 'coding', 'programming'], \n",
    "                  'healthcare': ['health', 'biology', 'healthcare', 'biotechnology', 'medical', 'clinical', 'genetic', 'dna',], \n",
    "                  'visualization': ['visualisation', 'vision', 'visual', 'visualization'], \n",
    "                  'power bi': ['bi', 'powerbi', 'power'], \n",
    "                  'google' : ['google cloud', 'google'],\n",
    "                  'finance': ['finance', 'investment', 'credit', 'fraud', 'financial'], \n",
    "                  'cloud': ['cloudbased', 'cloud'],\n",
    "                  'recommendation': ['recommendation','recommend'],\n",
    "                   'problem solving' : [ 'problem-solving',  'problemsolving',],\n",
    "                   'decision trees' : ['decision', 'tree'],\n",
    "                   'random forest' : ['forest',],\n",
    "                   'structured data' : ['structured',],\n",
    "                   'relational data' : ['relational',],\n",
    "                   'unstructured data' : [ 'unstructured',],\n",
    "                   'unsupervised learning' : ['unsupervised',],\n",
    "                  }\n"
   ]
  },
  {
   "cell_type": "code",
   "execution_count": 12,
   "metadata": {},
   "outputs": [
    {
     "data": {
      "text/plain": [
       "dict_keys(['a/b', 'advertising', 'architecture', 'automation', 'aws', 'azure', 'bash', 'bayesian', 'c', 'c#', 'classification', 'cloud', 'clustering', 'coding', 'crm', 'dashboard', 'deep', 'degree', 'deploy', 'documentation', 'economic', 'excel', 'finance', 'forecasting', 'google', 'government', 'hadoop', 'healthcare', 'insurance', 'javascript', 'law', 'linux', 'marketing', 'microsoft', 'mining', 'neural', 'nlp', 'numpy', 'optimization', 'oracle', 'pandas', 'perl', 'phd', 'pipeline', 'predictions', 'preparation', 'python', 'pytorch', 'r', 'recommendation', 'regression', 'sales', 'sas', 'scikitlearn', 'security', 'snowflake', 'spark', 'sql', 'supervised', 'tableau', 'tensorflow', 'testing', 'training', 'visualization', 'statistics', 'analytics', 'ML', 'algorithms', 'models', 'AI', 'databases', 'masters degree', 'bachelor degree', 'power bi', 'problem solving', 'decision trees', 'random forest', 'structured data', 'relational data', 'unstructured data', 'unsupervised learning'])"
      ]
     },
     "execution_count": 12,
     "metadata": {},
     "output_type": "execute_result"
    }
   ],
   "source": [
    "keywords.add_keywords(refined_keywords)\n",
    "keywords.save(config.KEYWORDS)\n",
    "keywords.dict.keys()"
   ]
  },
  {
   "cell_type": "markdown",
   "metadata": {},
   "source": [
    "## Group keywords"
   ]
  },
  {
   "cell_type": "markdown",
   "metadata": {},
   "source": [
    "- There are many different kinds of keywords it would be better if we could group them together such as as tools aws, google, azure, languages python r c. To be able to compare related keywords.  \n"
   ]
  },
  {
   "cell_type": "code",
   "execution_count": 13,
   "metadata": {},
   "outputs": [],
   "source": [
    "general_subjects_words =['ML','analytics','models','statistics','algorithms','coding','databases','AI','documentation', 'forecasting', 'relational', 'predictions', 'preparation','testing', 'training', 'problem solving',]\n",
    "\n",
    "skill_words =['deep','computer vision','recommendation','regression','mining','nlp','dashboard','classification','clustering','pandas','visualizations', 'deploy', 'a/b', 'neural','automation','bayesian','pipeline','supervised','hackathons', 'architecture', 'cloud', 'decision trees','random forest','unsupervised learning', 'visualization', 'structured data','unstructured data', 'relational data', 'optimization',]\n",
    "\n",
    "business_area_words =['marketing', 'healthcare','sales','finance','fraud','credit','government','biotechnology','crm','economic', 'advertising', 'insurance', 'law', 'security',]\n",
    "\n",
    "languages_words =['python','r','sql','sas','c#', 'bash', 'c', 'javascript', 'linux','perl', ]\n",
    "\n",
    "tools_words =['azure','google cloud', 'power BI','excel','aws','tableau','spark','tensorflow','hadoop','salesforce','pytorch', 'microsoft', 'numpy', 'oracle',  'scikitlearn',  'snowflake', 'power bi',]\n",
    "\n",
    "degree_words =['degree','bachelor degree','phd','masters degree']\n",
    "\n",
    "kws_groups_dict = {'Topic': general_subjects_words,\n",
    "                   'Skills' : skill_words,\n",
    "                   'Business_area' :business_area_words,\n",
    "                   'Languages' : languages_words,\n",
    "                   'Tools' : tools_words,\n",
    "                   'Degree' :  degree_words,\n",
    "                   }\n"
   ]
  },
  {
   "cell_type": "code",
   "execution_count": 14,
   "metadata": {},
   "outputs": [],
   "source": [
    "keyword_groups = kws.Keywords()\n",
    "keyword_groups.read_dict(kws_groups_dict)\n",
    "keyword_groups.save(config.KEYWORD_GROUPS)\n"
   ]
  },
  {
   "cell_type": "markdown",
   "metadata": {},
   "source": [
    "We have combined similar words together and deleted any ambigous words. We have formed six groups to help users better compare what skills, tools, languages ect are needed. \n",
    "These keywords can be refined further but this will not be cover in this scope. \n",
    "- We can check surrounding words to ensure words are not references something other than our keywords.\n",
    "- Keywords that are subsets of other words can be joined together. "
   ]
  }
 ],
 "metadata": {
  "kernelspec": {
   "display_name": "Python 3.9.6 ('venv': venv)",
   "language": "python",
   "name": "python3"
  },
  "language_info": {
   "codemirror_mode": {
    "name": "ipython",
    "version": 3
   },
   "file_extension": ".py",
   "mimetype": "text/x-python",
   "name": "python",
   "nbconvert_exporter": "python",
   "pygments_lexer": "ipython3",
   "version": "3.9.6"
  },
  "orig_nbformat": 4,
  "vscode": {
   "interpreter": {
    "hash": "9e47f7bd28b625b7bbbc7b2ec38bfbc2c696c8cb2638cc5e712aee4a5e054efa"
   }
  }
 },
 "nbformat": 4,
 "nbformat_minor": 2
}
